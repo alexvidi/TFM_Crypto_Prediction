{
  "nbformat": 4,
  "nbformat_minor": 0,
  "metadata": {
    "colab": {
      "provenance": []
    },
    "kernelspec": {
      "name": "python3",
      "display_name": "Python 3"
    },
    "language_info": {
      "name": "python"
    }
  },
  "cells": [
    {
      "cell_type": "code",
      "execution_count": 1,
      "metadata": {
        "colab": {
          "base_uri": "https://localhost:8080/",
          "height": 71
        },
        "id": "fbwuWt03IFAl",
        "outputId": "2a6b57cc-d986-4c7d-e696-8e96c3c06cc3"
      },
      "outputs": [
        {
          "output_type": "display_data",
          "data": {
            "text/plain": [
              "<IPython.core.display.HTML object>"
            ],
            "text/html": [
              "\n",
              "     <input type=\"file\" id=\"files-ed7d69d2-1732-4dac-9a4a-33f1cc5ee0fb\" name=\"files[]\" multiple disabled\n",
              "        style=\"border:none\" />\n",
              "     <output id=\"result-ed7d69d2-1732-4dac-9a4a-33f1cc5ee0fb\">\n",
              "      Upload widget is only available when the cell has been executed in the\n",
              "      current browser session. Please rerun this cell to enable.\n",
              "      </output>\n",
              "      <script>// Copyright 2017 Google LLC\n",
              "//\n",
              "// Licensed under the Apache License, Version 2.0 (the \"License\");\n",
              "// you may not use this file except in compliance with the License.\n",
              "// You may obtain a copy of the License at\n",
              "//\n",
              "//      http://www.apache.org/licenses/LICENSE-2.0\n",
              "//\n",
              "// Unless required by applicable law or agreed to in writing, software\n",
              "// distributed under the License is distributed on an \"AS IS\" BASIS,\n",
              "// WITHOUT WARRANTIES OR CONDITIONS OF ANY KIND, either express or implied.\n",
              "// See the License for the specific language governing permissions and\n",
              "// limitations under the License.\n",
              "\n",
              "/**\n",
              " * @fileoverview Helpers for google.colab Python module.\n",
              " */\n",
              "(function(scope) {\n",
              "function span(text, styleAttributes = {}) {\n",
              "  const element = document.createElement('span');\n",
              "  element.textContent = text;\n",
              "  for (const key of Object.keys(styleAttributes)) {\n",
              "    element.style[key] = styleAttributes[key];\n",
              "  }\n",
              "  return element;\n",
              "}\n",
              "\n",
              "// Max number of bytes which will be uploaded at a time.\n",
              "const MAX_PAYLOAD_SIZE = 100 * 1024;\n",
              "\n",
              "function _uploadFiles(inputId, outputId) {\n",
              "  const steps = uploadFilesStep(inputId, outputId);\n",
              "  const outputElement = document.getElementById(outputId);\n",
              "  // Cache steps on the outputElement to make it available for the next call\n",
              "  // to uploadFilesContinue from Python.\n",
              "  outputElement.steps = steps;\n",
              "\n",
              "  return _uploadFilesContinue(outputId);\n",
              "}\n",
              "\n",
              "// This is roughly an async generator (not supported in the browser yet),\n",
              "// where there are multiple asynchronous steps and the Python side is going\n",
              "// to poll for completion of each step.\n",
              "// This uses a Promise to block the python side on completion of each step,\n",
              "// then passes the result of the previous step as the input to the next step.\n",
              "function _uploadFilesContinue(outputId) {\n",
              "  const outputElement = document.getElementById(outputId);\n",
              "  const steps = outputElement.steps;\n",
              "\n",
              "  const next = steps.next(outputElement.lastPromiseValue);\n",
              "  return Promise.resolve(next.value.promise).then((value) => {\n",
              "    // Cache the last promise value to make it available to the next\n",
              "    // step of the generator.\n",
              "    outputElement.lastPromiseValue = value;\n",
              "    return next.value.response;\n",
              "  });\n",
              "}\n",
              "\n",
              "/**\n",
              " * Generator function which is called between each async step of the upload\n",
              " * process.\n",
              " * @param {string} inputId Element ID of the input file picker element.\n",
              " * @param {string} outputId Element ID of the output display.\n",
              " * @return {!Iterable<!Object>} Iterable of next steps.\n",
              " */\n",
              "function* uploadFilesStep(inputId, outputId) {\n",
              "  const inputElement = document.getElementById(inputId);\n",
              "  inputElement.disabled = false;\n",
              "\n",
              "  const outputElement = document.getElementById(outputId);\n",
              "  outputElement.innerHTML = '';\n",
              "\n",
              "  const pickedPromise = new Promise((resolve) => {\n",
              "    inputElement.addEventListener('change', (e) => {\n",
              "      resolve(e.target.files);\n",
              "    });\n",
              "  });\n",
              "\n",
              "  const cancel = document.createElement('button');\n",
              "  inputElement.parentElement.appendChild(cancel);\n",
              "  cancel.textContent = 'Cancel upload';\n",
              "  const cancelPromise = new Promise((resolve) => {\n",
              "    cancel.onclick = () => {\n",
              "      resolve(null);\n",
              "    };\n",
              "  });\n",
              "\n",
              "  // Wait for the user to pick the files.\n",
              "  const files = yield {\n",
              "    promise: Promise.race([pickedPromise, cancelPromise]),\n",
              "    response: {\n",
              "      action: 'starting',\n",
              "    }\n",
              "  };\n",
              "\n",
              "  cancel.remove();\n",
              "\n",
              "  // Disable the input element since further picks are not allowed.\n",
              "  inputElement.disabled = true;\n",
              "\n",
              "  if (!files) {\n",
              "    return {\n",
              "      response: {\n",
              "        action: 'complete',\n",
              "      }\n",
              "    };\n",
              "  }\n",
              "\n",
              "  for (const file of files) {\n",
              "    const li = document.createElement('li');\n",
              "    li.append(span(file.name, {fontWeight: 'bold'}));\n",
              "    li.append(span(\n",
              "        `(${file.type || 'n/a'}) - ${file.size} bytes, ` +\n",
              "        `last modified: ${\n",
              "            file.lastModifiedDate ? file.lastModifiedDate.toLocaleDateString() :\n",
              "                                    'n/a'} - `));\n",
              "    const percent = span('0% done');\n",
              "    li.appendChild(percent);\n",
              "\n",
              "    outputElement.appendChild(li);\n",
              "\n",
              "    const fileDataPromise = new Promise((resolve) => {\n",
              "      const reader = new FileReader();\n",
              "      reader.onload = (e) => {\n",
              "        resolve(e.target.result);\n",
              "      };\n",
              "      reader.readAsArrayBuffer(file);\n",
              "    });\n",
              "    // Wait for the data to be ready.\n",
              "    let fileData = yield {\n",
              "      promise: fileDataPromise,\n",
              "      response: {\n",
              "        action: 'continue',\n",
              "      }\n",
              "    };\n",
              "\n",
              "    // Use a chunked sending to avoid message size limits. See b/62115660.\n",
              "    let position = 0;\n",
              "    do {\n",
              "      const length = Math.min(fileData.byteLength - position, MAX_PAYLOAD_SIZE);\n",
              "      const chunk = new Uint8Array(fileData, position, length);\n",
              "      position += length;\n",
              "\n",
              "      const base64 = btoa(String.fromCharCode.apply(null, chunk));\n",
              "      yield {\n",
              "        response: {\n",
              "          action: 'append',\n",
              "          file: file.name,\n",
              "          data: base64,\n",
              "        },\n",
              "      };\n",
              "\n",
              "      let percentDone = fileData.byteLength === 0 ?\n",
              "          100 :\n",
              "          Math.round((position / fileData.byteLength) * 100);\n",
              "      percent.textContent = `${percentDone}% done`;\n",
              "\n",
              "    } while (position < fileData.byteLength);\n",
              "  }\n",
              "\n",
              "  // All done.\n",
              "  yield {\n",
              "    response: {\n",
              "      action: 'complete',\n",
              "    }\n",
              "  };\n",
              "}\n",
              "\n",
              "scope.google = scope.google || {};\n",
              "scope.google.colab = scope.google.colab || {};\n",
              "scope.google.colab._files = {\n",
              "  _uploadFiles,\n",
              "  _uploadFilesContinue,\n",
              "};\n",
              "})(self);\n",
              "</script> "
            ]
          },
          "metadata": {}
        },
        {
          "output_type": "stream",
          "name": "stdout",
          "text": [
            "Saving crypto_db.crypto_data2.json to crypto_db.crypto_data2.json\n"
          ]
        }
      ],
      "source": [
        "from google.colab import files\n",
        "\n",
        "# Subir archivo JSON\n",
        "uploaded = files.upload()"
      ]
    },
    {
      "cell_type": "code",
      "source": [
        "from pyspark.sql import SparkSession\n",
        "\n",
        "# Inicializar sesión de Spark\n",
        "spark = SparkSession.builder \\\n",
        "    .appName(\"Crypto Analysis\") \\\n",
        "    .getOrCreate()\n",
        "\n",
        "# Leer el archivo JSON\n",
        "df = spark.read.option(\"multiline\", \"true\").json(\"crypto_db.crypto_data2.json\")\n",
        "\n",
        "# Mostrar primeras filas\n",
        "df.show(5, truncate=False)\n",
        "\n",
        "# Esquema del DataFrame\n",
        "df.printSchema()"
      ],
      "metadata": {
        "colab": {
          "base_uri": "https://localhost:8080/"
        },
        "id": "soBIzRTKIYsZ",
        "outputId": "c197b5d4-36a8-4f7e-f81d-9425819230b6"
      },
      "execution_count": 2,
      "outputs": [
        {
          "output_type": "stream",
          "name": "stdout",
          "text": [
            "+--------------------------+-----------+-------+--------------------------+\n",
            "|_id                       |currency   |price  |timestamp                 |\n",
            "+--------------------------+-----------+-------+--------------------------+\n",
            "|{673c78c33f89a1dd8287c3fb}|Binancecoin|617.17 |2024-11-19T11:38:43.122457|\n",
            "|{673c78c33f89a1dd8287c3fc}|Bitcoin    |91659.0|2024-11-19T11:38:43.144313|\n",
            "|{673c78c33f89a1dd8287c3fd}|Ethereum   |3119.0 |2024-11-19T11:38:43.146319|\n",
            "|{673c78cd3f89a1dd8287c3fe}|Binancecoin|617.17 |2024-11-19T11:38:53.519422|\n",
            "|{673c78cd3f89a1dd8287c3ff}|Bitcoin    |91659.0|2024-11-19T11:38:53.520960|\n",
            "+--------------------------+-----------+-------+--------------------------+\n",
            "only showing top 5 rows\n",
            "\n",
            "root\n",
            " |-- _id: struct (nullable = true)\n",
            " |    |-- $oid: string (nullable = true)\n",
            " |-- currency: string (nullable = true)\n",
            " |-- price: double (nullable = true)\n",
            " |-- timestamp: string (nullable = true)\n",
            "\n"
          ]
        }
      ]
    },
    {
      "cell_type": "code",
      "source": [
        "from pyspark.sql.functions import col\n",
        "\n",
        "# Seleccionar columnas y aplanar el campo _id\n",
        "df = df.select(\n",
        "    col(\"currency\"),\n",
        "    col(\"price\"),\n",
        "    col(\"timestamp\"),\n",
        "    col(\"_id.$oid\").alias(\"id\")\n",
        ")\n",
        "\n",
        "# Mostrar primeras filas\n",
        "df.show(5, truncate=False)"
      ],
      "metadata": {
        "colab": {
          "base_uri": "https://localhost:8080/"
        },
        "id": "cQqLdM4aIa-H",
        "outputId": "8274c8bd-d57f-45ad-c9f5-2df8987c0fcc"
      },
      "execution_count": 3,
      "outputs": [
        {
          "output_type": "stream",
          "name": "stdout",
          "text": [
            "+-----------+-------+--------------------------+------------------------+\n",
            "|currency   |price  |timestamp                 |id                      |\n",
            "+-----------+-------+--------------------------+------------------------+\n",
            "|Binancecoin|617.17 |2024-11-19T11:38:43.122457|673c78c33f89a1dd8287c3fb|\n",
            "|Bitcoin    |91659.0|2024-11-19T11:38:43.144313|673c78c33f89a1dd8287c3fc|\n",
            "|Ethereum   |3119.0 |2024-11-19T11:38:43.146319|673c78c33f89a1dd8287c3fd|\n",
            "|Binancecoin|617.17 |2024-11-19T11:38:53.519422|673c78cd3f89a1dd8287c3fe|\n",
            "|Bitcoin    |91659.0|2024-11-19T11:38:53.520960|673c78cd3f89a1dd8287c3ff|\n",
            "+-----------+-------+--------------------------+------------------------+\n",
            "only showing top 5 rows\n",
            "\n"
          ]
        }
      ]
    },
    {
      "cell_type": "code",
      "source": [
        "# Importación de la función to_timestamp desde PySpark\n",
        "from pyspark.sql.functions import to_timestamp\n",
        "\n",
        "# Convertir la columna 'timestamp' de tipo string a un formato de fecha y hora\n",
        "df = df.withColumn(\"timestamp\", to_timestamp(\"timestamp\"))\n",
        "\n",
        "# Mostrar primeras filas procesadas\n",
        "df.show(5, truncate=False)"
      ],
      "metadata": {
        "colab": {
          "base_uri": "https://localhost:8080/"
        },
        "id": "4HzsiqwVIdOP",
        "outputId": "2ddbdc9c-5e77-422b-c9fd-11bbdc93a667"
      },
      "execution_count": 4,
      "outputs": [
        {
          "output_type": "stream",
          "name": "stdout",
          "text": [
            "+-----------+-------+--------------------------+------------------------+\n",
            "|currency   |price  |timestamp                 |id                      |\n",
            "+-----------+-------+--------------------------+------------------------+\n",
            "|Binancecoin|617.17 |2024-11-19 11:38:43.122457|673c78c33f89a1dd8287c3fb|\n",
            "|Bitcoin    |91659.0|2024-11-19 11:38:43.144313|673c78c33f89a1dd8287c3fc|\n",
            "|Ethereum   |3119.0 |2024-11-19 11:38:43.146319|673c78c33f89a1dd8287c3fd|\n",
            "|Binancecoin|617.17 |2024-11-19 11:38:53.519422|673c78cd3f89a1dd8287c3fe|\n",
            "|Bitcoin    |91659.0|2024-11-19 11:38:53.52096 |673c78cd3f89a1dd8287c3ff|\n",
            "+-----------+-------+--------------------------+------------------------+\n",
            "only showing top 5 rows\n",
            "\n"
          ]
        }
      ]
    },
    {
      "cell_type": "code",
      "source": [
        "import pandas as pd\n",
        "\n",
        "# Filtrar datos de Binancecoin\n",
        "binancecoin_df = df.filter(df.currency == \"Binancecoin\").select(\"timestamp\", \"price\")\n",
        "\n",
        "# Convertir a DataFrame\n",
        "binancecoin_data = binancecoin_df.toPandas()\n",
        "\n",
        "# Renombrar las columnas\n",
        "binancecoin_data = binancecoin_data.rename(columns={\"timestamp\": \"ds\", \"price\": \"y\"})\n",
        "binancecoin_data[\"ds\"] = pd.to_datetime(binancecoin_data[\"ds\"])\n",
        "\n",
        "# Mostrar las primeras filas del DataFrame para verificar los datos\n",
        "print(binancecoin_data.head())"
      ],
      "metadata": {
        "colab": {
          "base_uri": "https://localhost:8080/"
        },
        "id": "efqf4KH2I_Sx",
        "outputId": "e5e857c8-243c-4707-d280-657bda43381e"
      },
      "execution_count": 5,
      "outputs": [
        {
          "output_type": "stream",
          "name": "stdout",
          "text": [
            "                          ds       y\n",
            "0 2024-11-19 11:38:43.122457  617.17\n",
            "1 2024-11-19 11:38:53.519422  617.17\n",
            "2 2024-11-19 11:39:03.922474  617.17\n",
            "3 2024-11-19 11:39:14.313473  617.17\n",
            "4 2024-11-19 11:39:24.778449  617.17\n"
          ]
        }
      ]
    },
    {
      "cell_type": "code",
      "source": [
        "# Importación de la prueba Dickey-Fuller para evaluar la estacionariedad\n",
        "from statsmodels.tsa.stattools import adfuller\n",
        "\n",
        "# Verificar estacionariedad de la serie de Binancecoin\n",
        "adf_test_binance = adfuller(binancecoin_data[\"y\"])      # 'y' contiene los datos de precios de Binancecoin\n",
        "print(f\"ADF Statistic: {adf_test_binance[0]}\")          # Estadístico ADF\n",
        "print(f\"p-value: {adf_test_binance[1]}\")                # Valor p asociado\n",
        "\n",
        "# Decidir si la serie es estacionaria según el valor p\n",
        "if adf_test_binance[1] > 0.05:\n",
        "    print(\"La serie no es estacionaria. Aplicando diferenciación...\")\n",
        "    binancecoin_data_diff = binancecoin_data[\"y\"].diff().dropna()         # Diferenciación para eliminar tendencias\n",
        "else:\n",
        "    print(\"La serie es estacionaria.\")\n",
        "    binancecoin_data_diff = binancecoin_data[\"y\"]                         # No se realiza diferenciación\n"
      ],
      "metadata": {
        "colab": {
          "base_uri": "https://localhost:8080/"
        },
        "id": "rD3_39DLJXhp",
        "outputId": "70d6047f-54e8-440a-d383-2ca791d2364a"
      },
      "execution_count": 6,
      "outputs": [
        {
          "output_type": "stream",
          "name": "stdout",
          "text": [
            "ADF Statistic: -2.425158165491486\n",
            "p-value: 0.134761228545474\n",
            "La serie no es estacionaria. Aplicando diferenciación...\n"
          ]
        }
      ]
    },
    {
      "cell_type": "code",
      "source": [
        "# Se realiza una segunda prueba para confirmar que la serie diferenciada es estacionaria\n",
        "adf_test_diff_binance = adfuller(binancecoin_data_diff)\n",
        "print(f\"ADF Statistic (diferenciada): {adf_test_diff_binance[0]}\")\n",
        "print(f\"p-value (diferenciada): {adf_test_diff_binance[1]}\")\n",
        "\n",
        "if adf_test_diff_binance[1] <= 0.05:\n",
        "    print(\"La serie ahora es estacionaria.\")\n",
        "else:\n",
        "    print(\"La serie todavía no es estacionaria.\")\n"
      ],
      "metadata": {
        "colab": {
          "base_uri": "https://localhost:8080/"
        },
        "id": "KW3pAYV5KNAq",
        "outputId": "0b35b89f-d0ac-4985-d01c-69f3b5bc587c"
      },
      "execution_count": 7,
      "outputs": [
        {
          "output_type": "stream",
          "name": "stdout",
          "text": [
            "ADF Statistic (diferenciada): -23.122468348786818\n",
            "p-value (diferenciada): 0.0\n",
            "La serie ahora es estacionaria.\n"
          ]
        }
      ]
    },
    {
      "cell_type": "code",
      "source": [
        "from statsmodels.tsa.arima.model import ARIMA\n",
        "from sklearn.metrics import mean_absolute_error, mean_squared_error\n",
        "import numpy as np\n",
        "\n",
        "# Cada tupla (p, d, q) representa los parámetros del modelo ARIMA:\n",
        "# p: número de términos autoregresivos (AR)\n",
        "# d: número de diferenciaciones necesarias para estacionariedad (diferencias)\n",
        "# q: número de términos de media móvil (MA)\n",
        "\n",
        "# Lista de parámetros a probar\n",
        "param_list = [(2, 1, 2), (5, 2, 1), (0, 2, 2), (3, 1, 3), (4, 2, 0)]\n",
        "\n",
        "# Diccionario para almacenar resultados\n",
        "results = {}\n",
        "\n",
        "# Probar diferentes configuraciones\n",
        "for params in param_list:\n",
        "    print(f\"Test ARIMA{params}...\")\n",
        "    try:\n",
        "        # Ajustar el modelo ARIMA\n",
        "        model = ARIMA(binancecoin_data_diff, order=params)\n",
        "        model_fit = model.fit()\n",
        "\n",
        "        # Calcular métricas\n",
        "        mae = mean_absolute_error(binancecoin_data_diff, model_fit.fittedvalues)\n",
        "        rmse = np.sqrt(mean_squared_error(binancecoin_data_diff, model_fit.fittedvalues))\n",
        "\n",
        "        # Guardar resultados\n",
        "        results[params] = {\n",
        "            \"MAE\": mae,\n",
        "            \"RMSE\": rmse,\n",
        "            \"AIC\": model_fit.aic,\n",
        "            \"BIC\": model_fit.bic\n",
        "        }\n",
        "\n",
        "        # Imprimir resultados del modelo actual\n",
        "        print(f\"ARIMA{params}: MAE={mae:.2f}, RMSE={rmse:.2f}, AIC={model_fit.aic:.2f}, BIC={model_fit.bic:.2f}\")\n",
        "\n",
        "    # Mostrar errores si el modelo no puede ser ajustado con los parámetros actuales\n",
        "    except Exception as e:\n",
        "        print(f\"Error con ARIMA{params}: {e}\")\n",
        "\n",
        "# Selección del mejor modelo basado en AIC\n",
        "best_params = min(results, key=lambda x: results[x][\"AIC\"])\n",
        "print(f\"\\nMejor modelo para Binance Coin: ARIMA{best_params}\")\n",
        "print(f\"Resultados: {results[best_params]}\")"
      ],
      "metadata": {
        "colab": {
          "base_uri": "https://localhost:8080/"
        },
        "id": "8bqGLEYPKg5q",
        "outputId": "52aef90e-78cb-4e40-aac0-67bb9d70c050"
      },
      "execution_count": 8,
      "outputs": [
        {
          "output_type": "stream",
          "name": "stdout",
          "text": [
            "Test ARIMA(2, 1, 2)...\n"
          ]
        },
        {
          "output_type": "stream",
          "name": "stderr",
          "text": [
            "/usr/local/lib/python3.10/dist-packages/statsmodels/tsa/base/tsa_model.py:473: ValueWarning: An unsupported index was provided. As a result, forecasts cannot be generated. To use the model for forecasting, use one of the supported classes of index.\n",
            "  self._init_dates(dates, freq)\n",
            "/usr/local/lib/python3.10/dist-packages/statsmodels/tsa/base/tsa_model.py:473: ValueWarning: An unsupported index was provided. As a result, forecasts cannot be generated. To use the model for forecasting, use one of the supported classes of index.\n",
            "  self._init_dates(dates, freq)\n",
            "/usr/local/lib/python3.10/dist-packages/statsmodels/tsa/base/tsa_model.py:473: ValueWarning: An unsupported index was provided. As a result, forecasts cannot be generated. To use the model for forecasting, use one of the supported classes of index.\n",
            "  self._init_dates(dates, freq)\n"
          ]
        },
        {
          "output_type": "stream",
          "name": "stdout",
          "text": [
            "ARIMA(2, 1, 2): MAE=0.06, RMSE=0.30, AIC=4490.88, BIC=4527.33\n",
            "Test ARIMA(5, 2, 1)...\n"
          ]
        },
        {
          "output_type": "stream",
          "name": "stderr",
          "text": [
            "/usr/local/lib/python3.10/dist-packages/statsmodels/tsa/base/tsa_model.py:473: ValueWarning: An unsupported index was provided. As a result, forecasts cannot be generated. To use the model for forecasting, use one of the supported classes of index.\n",
            "  self._init_dates(dates, freq)\n",
            "/usr/local/lib/python3.10/dist-packages/statsmodels/tsa/base/tsa_model.py:473: ValueWarning: An unsupported index was provided. As a result, forecasts cannot be generated. To use the model for forecasting, use one of the supported classes of index.\n",
            "  self._init_dates(dates, freq)\n",
            "/usr/local/lib/python3.10/dist-packages/statsmodels/tsa/base/tsa_model.py:473: ValueWarning: An unsupported index was provided. As a result, forecasts cannot be generated. To use the model for forecasting, use one of the supported classes of index.\n",
            "  self._init_dates(dates, freq)\n",
            "/usr/local/lib/python3.10/dist-packages/statsmodels/tsa/statespace/sarimax.py:978: UserWarning: Non-invertible starting MA parameters found. Using zeros as starting parameters.\n",
            "  warn('Non-invertible starting MA parameters found.'\n"
          ]
        },
        {
          "output_type": "stream",
          "name": "stdout",
          "text": [
            "ARIMA(5, 2, 1): MAE=0.11, RMSE=0.32, AIC=6169.16, BIC=6220.19\n",
            "Test ARIMA(0, 2, 2)...\n"
          ]
        },
        {
          "output_type": "stream",
          "name": "stderr",
          "text": [
            "/usr/local/lib/python3.10/dist-packages/statsmodels/tsa/base/tsa_model.py:473: ValueWarning: An unsupported index was provided. As a result, forecasts cannot be generated. To use the model for forecasting, use one of the supported classes of index.\n",
            "  self._init_dates(dates, freq)\n",
            "/usr/local/lib/python3.10/dist-packages/statsmodels/tsa/base/tsa_model.py:473: ValueWarning: An unsupported index was provided. As a result, forecasts cannot be generated. To use the model for forecasting, use one of the supported classes of index.\n",
            "  self._init_dates(dates, freq)\n",
            "/usr/local/lib/python3.10/dist-packages/statsmodels/tsa/base/tsa_model.py:473: ValueWarning: An unsupported index was provided. As a result, forecasts cannot be generated. To use the model for forecasting, use one of the supported classes of index.\n",
            "  self._init_dates(dates, freq)\n"
          ]
        },
        {
          "output_type": "stream",
          "name": "stdout",
          "text": [
            "ARIMA(0, 2, 2): MAE=0.07, RMSE=0.30, AIC=4575.10, BIC=4596.97\n",
            "Test ARIMA(3, 1, 3)...\n"
          ]
        },
        {
          "output_type": "stream",
          "name": "stderr",
          "text": [
            "/usr/local/lib/python3.10/dist-packages/statsmodels/tsa/base/tsa_model.py:473: ValueWarning: An unsupported index was provided. As a result, forecasts cannot be generated. To use the model for forecasting, use one of the supported classes of index.\n",
            "  self._init_dates(dates, freq)\n",
            "/usr/local/lib/python3.10/dist-packages/statsmodels/tsa/base/tsa_model.py:473: ValueWarning: An unsupported index was provided. As a result, forecasts cannot be generated. To use the model for forecasting, use one of the supported classes of index.\n",
            "  self._init_dates(dates, freq)\n",
            "/usr/local/lib/python3.10/dist-packages/statsmodels/tsa/base/tsa_model.py:473: ValueWarning: An unsupported index was provided. As a result, forecasts cannot be generated. To use the model for forecasting, use one of the supported classes of index.\n",
            "  self._init_dates(dates, freq)\n",
            "/usr/local/lib/python3.10/dist-packages/statsmodels/base/model.py:607: ConvergenceWarning: Maximum Likelihood optimization failed to converge. Check mle_retvals\n",
            "  warnings.warn(\"Maximum Likelihood optimization failed to \"\n"
          ]
        },
        {
          "output_type": "stream",
          "name": "stdout",
          "text": [
            "ARIMA(3, 1, 3): MAE=0.06, RMSE=0.30, AIC=4493.18, BIC=4544.21\n",
            "Test ARIMA(4, 2, 0)...\n"
          ]
        },
        {
          "output_type": "stream",
          "name": "stderr",
          "text": [
            "/usr/local/lib/python3.10/dist-packages/statsmodels/tsa/base/tsa_model.py:473: ValueWarning: An unsupported index was provided. As a result, forecasts cannot be generated. To use the model for forecasting, use one of the supported classes of index.\n",
            "  self._init_dates(dates, freq)\n",
            "/usr/local/lib/python3.10/dist-packages/statsmodels/tsa/base/tsa_model.py:473: ValueWarning: An unsupported index was provided. As a result, forecasts cannot be generated. To use the model for forecasting, use one of the supported classes of index.\n",
            "  self._init_dates(dates, freq)\n",
            "/usr/local/lib/python3.10/dist-packages/statsmodels/tsa/base/tsa_model.py:473: ValueWarning: An unsupported index was provided. As a result, forecasts cannot be generated. To use the model for forecasting, use one of the supported classes of index.\n",
            "  self._init_dates(dates, freq)\n"
          ]
        },
        {
          "output_type": "stream",
          "name": "stdout",
          "text": [
            "ARIMA(4, 2, 0): MAE=0.16, RMSE=0.41, AIC=11246.47, BIC=11282.92\n",
            "\n",
            "Mejor modelo para Binance Coin: ARIMA(2, 1, 2)\n",
            "Resultados: {'MAE': 0.05617150320545853, 'RMSE': 0.2975127319352346, 'AIC': 4490.876764309547, 'BIC': 4527.327141009522}\n"
          ]
        }
      ]
    },
    {
      "cell_type": "code",
      "source": [
        "# Remuestreo de los datos a intervalos de 1 minuto\n",
        "binancecoin_data_resampled = (\n",
        "    binancecoin_data.set_index(\"ds\")        # Establecer el índice\n",
        "    .resample(\"T\")                          # 'T' para remuestrear a minutos\n",
        "    .mean()                                 # Calcular el promedio por intervalo\n",
        "    .dropna()                               # Eliminar valores nulos\n",
        "    .reset_index()                          # Reiniciar el índice para su posterior uso\n",
        ")\n",
        "\n",
        "# Configurar nuevamente la columna \"ds\" como índice\n",
        "binancecoin_data_resampled = binancecoin_data_resampled.set_index('ds')\n",
        "\n",
        "# Verificar el resultado\n",
        "print(binancecoin_data_resampled.head())"
      ],
      "metadata": {
        "colab": {
          "base_uri": "https://localhost:8080/"
        },
        "id": "-d-l5RNVL1yj",
        "outputId": "31034f43-d250-4534-c0d1-28b2d5d4f762"
      },
      "execution_count": 11,
      "outputs": [
        {
          "output_type": "stream",
          "name": "stdout",
          "text": [
            "                          y\n",
            "ds                         \n",
            "2024-11-19 11:38:00  617.17\n",
            "2024-11-19 11:39:00  617.17\n",
            "2024-11-19 11:40:00  617.17\n",
            "2024-11-19 11:41:00  617.17\n",
            "2024-11-19 11:42:00  617.17\n"
          ]
        },
        {
          "output_type": "stream",
          "name": "stderr",
          "text": [
            "<ipython-input-11-8374e0439b7b>:4: FutureWarning: 'T' is deprecated and will be removed in a future version, please use 'min' instead.\n",
            "  .resample(\"T\")                          # 'T' para remuestrear a minutos\n"
          ]
        }
      ]
    },
    {
      "cell_type": "code",
      "source": [
        "import matplotlib.pyplot as plt\n",
        "\n",
        "# Ajustar el modelo ARIMA(2, 1, 2) PARA BinanceCoin\n",
        "model = ARIMA(binancecoin_data_diff, order=(2, 1, 2))\n",
        "model_fit = model.fit()\n",
        "\n",
        "# Mostrar el resumen del modelo\n",
        "# información estadística detallada sobre los parámetros ajustados,\n",
        "# como coeficientes, errores estándar, valores AIC/BIC, y residuales\n",
        "print(model_fit.summary())\n",
        "\n",
        "# Generar predicciones\n",
        "forecast_steps_bnb = 300  # Número de pasos a predecir\n",
        "forecast_bnb = model_fit.forecast(steps=forecast_steps_bnb)\n",
        "\n",
        "# Crear índice para las predicciones\n",
        "forecast_index_bnb = pd.date_range(start=binancecoin_data_resampled.index[-1], periods=forecast_steps_bnb + 1, freq='T')[1:]\n",
        "\n",
        "# Ajustar las predicciones para volver a los valores originales\n",
        "forecast_cumsum_bnb = forecast_bnb.cumsum() + binancecoin_data_resampled['y'].iloc[-1]\n",
        "\n",
        "# Convertir predicciones a DataFrame\n",
        "forecast_df_bnb = pd.DataFrame({'ds': forecast_index_bnb, 'y_pred': forecast_cumsum_bnb})\n",
        "\n",
        "# Visualización de los resultados\n",
        "plt.figure(figsize=(12, 6))\n",
        "plt.plot(binancecoin_data_resampled.index[-500:], binancecoin_data_resampled['y'][-500:], label='Actual Data', color='blue')\n",
        "plt.plot(forecast_df_bnb['ds'], forecast_df_bnb['y_pred'], label='Prediction', color='red', linestyle='--')\n",
        "plt.title('Binance Coin Prediction (Arima)', fontsize=16)\n",
        "plt.xlabel('Date', fontsize=14)\n",
        "plt.ylabel('Price', fontsize=14)\n",
        "plt.legend(fontsize=12)\n",
        "plt.grid()\n",
        "plt.show()"
      ],
      "metadata": {
        "colab": {
          "base_uri": "https://localhost:8080/",
          "height": 1000
        },
        "id": "P_cNMAkvLBnT",
        "outputId": "30af3600-3359-49c7-b801-6bbe23ff57fa"
      },
      "execution_count": 12,
      "outputs": [
        {
          "output_type": "stream",
          "name": "stderr",
          "text": [
            "/usr/local/lib/python3.10/dist-packages/statsmodels/tsa/base/tsa_model.py:473: ValueWarning: An unsupported index was provided. As a result, forecasts cannot be generated. To use the model for forecasting, use one of the supported classes of index.\n",
            "  self._init_dates(dates, freq)\n",
            "/usr/local/lib/python3.10/dist-packages/statsmodels/tsa/base/tsa_model.py:473: ValueWarning: An unsupported index was provided. As a result, forecasts cannot be generated. To use the model for forecasting, use one of the supported classes of index.\n",
            "  self._init_dates(dates, freq)\n",
            "/usr/local/lib/python3.10/dist-packages/statsmodels/tsa/base/tsa_model.py:473: ValueWarning: An unsupported index was provided. As a result, forecasts cannot be generated. To use the model for forecasting, use one of the supported classes of index.\n",
            "  self._init_dates(dates, freq)\n"
          ]
        },
        {
          "output_type": "stream",
          "name": "stdout",
          "text": [
            "                               SARIMAX Results                                \n",
            "==============================================================================\n",
            "Dep. Variable:                      y   No. Observations:                10831\n",
            "Model:                 ARIMA(2, 1, 2)   Log Likelihood               -2240.438\n",
            "Date:                Wed, 18 Dec 2024   AIC                           4490.877\n",
            "Time:                        19:18:21   BIC                           4527.327\n",
            "Sample:                             0   HQIC                          4503.166\n",
            "                              - 10831                                         \n",
            "Covariance Type:                  opg                                         \n",
            "==============================================================================\n",
            "                 coef    std err          z      P>|z|      [0.025      0.975]\n",
            "------------------------------------------------------------------------------\n",
            "ar.L1         -0.9861      0.068    -14.452      0.000      -1.120      -0.852\n",
            "ar.L2         -0.0041      0.049     -0.083      0.934      -0.101       0.093\n",
            "ma.L1         -0.0164      0.039     -0.419      0.675      -0.093       0.060\n",
            "ma.L2         -0.9834      0.039    -25.133      0.000      -1.060      -0.907\n",
            "sigma2         0.0885      0.000    491.606      0.000       0.088       0.089\n",
            "===================================================================================\n",
            "Ljung-Box (L1) (Q):                   0.00   Jarque-Bera (JB):           4498943.27\n",
            "Prob(Q):                              0.99   Prob(JB):                         0.00\n",
            "Heteroskedasticity (H):               1.61   Skew:                             0.24\n",
            "Prob(H) (two-sided):                  0.00   Kurtosis:                       102.85\n",
            "===================================================================================\n",
            "\n",
            "Warnings:\n",
            "[1] Covariance matrix calculated using the outer product of gradients (complex-step).\n"
          ]
        },
        {
          "output_type": "stream",
          "name": "stderr",
          "text": [
            "/usr/local/lib/python3.10/dist-packages/statsmodels/tsa/base/tsa_model.py:837: ValueWarning: No supported index is available. Prediction results will be given with an integer index beginning at `start`.\n",
            "  return get_prediction_index(\n",
            "/usr/local/lib/python3.10/dist-packages/statsmodels/tsa/base/tsa_model.py:837: FutureWarning: No supported index is available. In the next version, calling this method in a model without a supported index will result in an exception.\n",
            "  return get_prediction_index(\n",
            "<ipython-input-12-e2946972c5b0>:17: FutureWarning: 'T' is deprecated and will be removed in a future version, please use 'min' instead.\n",
            "  forecast_index_bnb = pd.date_range(start=binancecoin_data_resampled.index[-1], periods=forecast_steps_bnb + 1, freq='T')[1:]\n"
          ]
        },
        {
          "output_type": "display_data",
          "data": {
            "text/plain": [
              "<Figure size 1200x600 with 1 Axes>"
            ],
            "image/png": "[encoded data removed]"
          },
          "metadata": {}
        }
      ]
    }
  ]
}