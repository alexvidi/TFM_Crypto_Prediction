{
  "nbformat": 4,
  "nbformat_minor": 0,
  "metadata": {
    "colab": {
      "provenance": []
    },
    "kernelspec": {
      "name": "python3",
      "display_name": "Python 3"
    },
    "language_info": {
      "name": "python"
    }
  },
  "cells": [
    {
      "cell_type": "code",
      "execution_count": 1,
      "metadata": {
        "colab": {
          "base_uri": "https://localhost:8080/",
          "height": 71
        },
        "id": "XdN2GqCtXgqB",
        "outputId": "a802700c-4281-4a8f-cf64-9779f9c62e56"
      },
      "outputs": [
        {
          "output_type": "display_data",
          "data": {
            "text/plain": [
              "<IPython.core.display.HTML object>"
            ],
            "text/html": [
              "\n",
              "     <input type=\"file\" id=\"files-de7349cd-6dd6-42b4-8a56-72eac56d9941\" name=\"files[]\" multiple disabled\n",
              "        style=\"border:none\" />\n",
              "     <output id=\"result-de7349cd-6dd6-42b4-8a56-72eac56d9941\">\n",
              "      Upload widget is only available when the cell has been executed in the\n",
              "      current browser session. Please rerun this cell to enable.\n",
              "      </output>\n",
              "      <script>// Copyright 2017 Google LLC\n",
              "//\n",
              "// Licensed under the Apache License, Version 2.0 (the \"License\");\n",
              "// you may not use this file except in compliance with the License.\n",
              "// You may obtain a copy of the License at\n",
              "//\n",
              "//      http://www.apache.org/licenses/LICENSE-2.0\n",
              "//\n",
              "// Unless required by applicable law or agreed to in writing, software\n",
              "// distributed under the License is distributed on an \"AS IS\" BASIS,\n",
              "// WITHOUT WARRANTIES OR CONDITIONS OF ANY KIND, either express or implied.\n",
              "// See the License for the specific language governing permissions and\n",
              "// limitations under the License.\n",
              "\n",
              "/**\n",
              " * @fileoverview Helpers for google.colab Python module.\n",
              " */\n",
              "(function(scope) {\n",
              "function span(text, styleAttributes = {}) {\n",
              "  const element = document.createElement('span');\n",
              "  element.textContent = text;\n",
              "  for (const key of Object.keys(styleAttributes)) {\n",
              "    element.style[key] = styleAttributes[key];\n",
              "  }\n",
              "  return element;\n",
              "}\n",
              "\n",
              "// Max number of bytes which will be uploaded at a time.\n",
              "const MAX_PAYLOAD_SIZE = 100 * 1024;\n",
              "\n",
              "function _uploadFiles(inputId, outputId) {\n",
              "  const steps = uploadFilesStep(inputId, outputId);\n",
              "  const outputElement = document.getElementById(outputId);\n",
              "  // Cache steps on the outputElement to make it available for the next call\n",
              "  // to uploadFilesContinue from Python.\n",
              "  outputElement.steps = steps;\n",
              "\n",
              "  return _uploadFilesContinue(outputId);\n",
              "}\n",
              "\n",
              "// This is roughly an async generator (not supported in the browser yet),\n",
              "// where there are multiple asynchronous steps and the Python side is going\n",
              "// to poll for completion of each step.\n",
              "// This uses a Promise to block the python side on completion of each step,\n",
              "// then passes the result of the previous step as the input to the next step.\n",
              "function _uploadFilesContinue(outputId) {\n",
              "  const outputElement = document.getElementById(outputId);\n",
              "  const steps = outputElement.steps;\n",
              "\n",
              "  const next = steps.next(outputElement.lastPromiseValue);\n",
              "  return Promise.resolve(next.value.promise).then((value) => {\n",
              "    // Cache the last promise value to make it available to the next\n",
              "    // step of the generator.\n",
              "    outputElement.lastPromiseValue = value;\n",
              "    return next.value.response;\n",
              "  });\n",
              "}\n",
              "\n",
              "/**\n",
              " * Generator function which is called between each async step of the upload\n",
              " * process.\n",
              " * @param {string} inputId Element ID of the input file picker element.\n",
              " * @param {string} outputId Element ID of the output display.\n",
              " * @return {!Iterable<!Object>} Iterable of next steps.\n",
              " */\n",
              "function* uploadFilesStep(inputId, outputId) {\n",
              "  const inputElement = document.getElementById(inputId);\n",
              "  inputElement.disabled = false;\n",
              "\n",
              "  const outputElement = document.getElementById(outputId);\n",
              "  outputElement.innerHTML = '';\n",
              "\n",
              "  const pickedPromise = new Promise((resolve) => {\n",
              "    inputElement.addEventListener('change', (e) => {\n",
              "      resolve(e.target.files);\n",
              "    });\n",
              "  });\n",
              "\n",
              "  const cancel = document.createElement('button');\n",
              "  inputElement.parentElement.appendChild(cancel);\n",
              "  cancel.textContent = 'Cancel upload';\n",
              "  const cancelPromise = new Promise((resolve) => {\n",
              "    cancel.onclick = () => {\n",
              "      resolve(null);\n",
              "    };\n",
              "  });\n",
              "\n",
              "  // Wait for the user to pick the files.\n",
              "  const files = yield {\n",
              "    promise: Promise.race([pickedPromise, cancelPromise]),\n",
              "    response: {\n",
              "      action: 'starting',\n",
              "    }\n",
              "  };\n",
              "\n",
              "  cancel.remove();\n",
              "\n",
              "  // Disable the input element since further picks are not allowed.\n",
              "  inputElement.disabled = true;\n",
              "\n",
              "  if (!files) {\n",
              "    return {\n",
              "      response: {\n",
              "        action: 'complete',\n",
              "      }\n",
              "    };\n",
              "  }\n",
              "\n",
              "  for (const file of files) {\n",
              "    const li = document.createElement('li');\n",
              "    li.append(span(file.name, {fontWeight: 'bold'}));\n",
              "    li.append(span(\n",
              "        `(${file.type || 'n/a'}) - ${file.size} bytes, ` +\n",
              "        `last modified: ${\n",
              "            file.lastModifiedDate ? file.lastModifiedDate.toLocaleDateString() :\n",
              "                                    'n/a'} - `));\n",
              "    const percent = span('0% done');\n",
              "    li.appendChild(percent);\n",
              "\n",
              "    outputElement.appendChild(li);\n",
              "\n",
              "    const fileDataPromise = new Promise((resolve) => {\n",
              "      const reader = new FileReader();\n",
              "      reader.onload = (e) => {\n",
              "        resolve(e.target.result);\n",
              "      };\n",
              "      reader.readAsArrayBuffer(file);\n",
              "    });\n",
              "    // Wait for the data to be ready.\n",
              "    let fileData = yield {\n",
              "      promise: fileDataPromise,\n",
              "      response: {\n",
              "        action: 'continue',\n",
              "      }\n",
              "    };\n",
              "\n",
              "    // Use a chunked sending to avoid message size limits. See b/62115660.\n",
              "    let position = 0;\n",
              "    do {\n",
              "      const length = Math.min(fileData.byteLength - position, MAX_PAYLOAD_SIZE);\n",
              "      const chunk = new Uint8Array(fileData, position, length);\n",
              "      position += length;\n",
              "\n",
              "      const base64 = btoa(String.fromCharCode.apply(null, chunk));\n",
              "      yield {\n",
              "        response: {\n",
              "          action: 'append',\n",
              "          file: file.name,\n",
              "          data: base64,\n",
              "        },\n",
              "      };\n",
              "\n",
              "      let percentDone = fileData.byteLength === 0 ?\n",
              "          100 :\n",
              "          Math.round((position / fileData.byteLength) * 100);\n",
              "      percent.textContent = `${percentDone}% done`;\n",
              "\n",
              "    } while (position < fileData.byteLength);\n",
              "  }\n",
              "\n",
              "  // All done.\n",
              "  yield {\n",
              "    response: {\n",
              "      action: 'complete',\n",
              "    }\n",
              "  };\n",
              "}\n",
              "\n",
              "scope.google = scope.google || {};\n",
              "scope.google.colab = scope.google.colab || {};\n",
              "scope.google.colab._files = {\n",
              "  _uploadFiles,\n",
              "  _uploadFilesContinue,\n",
              "};\n",
              "})(self);\n",
              "</script> "
            ]
          },
          "metadata": {}
        },
        {
          "output_type": "stream",
          "name": "stdout",
          "text": [
            "Saving crypto_db.crypto_data2.json to crypto_db.crypto_data2.json\n"
          ]
        }
      ],
      "source": [
        "from google.colab import files\n",
        "\n",
        "# Subir archivo JSON\n",
        "uploaded = files.upload()"
      ]
    },
    {
      "cell_type": "code",
      "source": [
        "#Visualizamos el formato del archivo\n",
        "!head -n 24 crypto_db.crypto_data2.json"
      ],
      "metadata": {
        "colab": {
          "base_uri": "https://localhost:8080/"
        },
        "id": "8b2fP0peX2q_",
        "outputId": "cd9555f1-8f78-47d7-83a0-62f33d93025b"
      },
      "execution_count": 4,
      "outputs": [
        {
          "output_type": "stream",
          "name": "stdout",
          "text": [
            "[{\n",
            "  \"_id\": {\n",
            "    \"$oid\": \"673c78c33f89a1dd8287c3fb\"\n",
            "  },\n",
            "  \"currency\": \"Binancecoin\",\n",
            "  \"price\": 617.17,\n",
            "  \"timestamp\": \"2024-11-19T11:38:43.122457\"\n",
            "},\n",
            "{\n",
            "  \"_id\": {\n",
            "    \"$oid\": \"673c78c33f89a1dd8287c3fc\"\n",
            "  },\n",
            "  \"currency\": \"Bitcoin\",\n",
            "  \"price\": 91659,\n",
            "  \"timestamp\": \"2024-11-19T11:38:43.144313\"\n",
            "},\n",
            "{\n",
            "  \"_id\": {\n",
            "    \"$oid\": \"673c78c33f89a1dd8287c3fd\"\n",
            "  },\n",
            "  \"currency\": \"Ethereum\",\n",
            "  \"price\": 3119,\n",
            "  \"timestamp\": \"2024-11-19T11:38:43.146319\"\n",
            "},\n"
          ]
        }
      ]
    },
    {
      "cell_type": "code",
      "source": [
        "from pyspark.sql import SparkSession\n",
        "\n",
        "# Inicializar sesión de Spark\n",
        "spark = SparkSession.builder \\\n",
        "    .appName(\"Crypto Analysis\") \\\n",
        "    .getOrCreate()\n",
        "\n",
        "# Leer el archivo JSON\n",
        "df = spark.read.option(\"multiline\", \"true\").json(\"crypto_db.crypto_data2.json\")\n",
        "\n",
        "# Mostrar primeras filas\n",
        "df.show(5, truncate=False)\n",
        "\n",
        "# Esquema del DataFrame\n",
        "df.printSchema()\n",
        "\n"
      ],
      "metadata": {
        "colab": {
          "base_uri": "https://localhost:8080/"
        },
        "id": "LDwDnX6wYzaa",
        "outputId": "e34f4d5d-1822-4045-a627-cbe88bb89422"
      },
      "execution_count": 6,
      "outputs": [
        {
          "output_type": "stream",
          "name": "stdout",
          "text": [
            "+--------------------------+-----------+-------+--------------------------+\n",
            "|_id                       |currency   |price  |timestamp                 |\n",
            "+--------------------------+-----------+-------+--------------------------+\n",
            "|{673c78c33f89a1dd8287c3fb}|Binancecoin|617.17 |2024-11-19T11:38:43.122457|\n",
            "|{673c78c33f89a1dd8287c3fc}|Bitcoin    |91659.0|2024-11-19T11:38:43.144313|\n",
            "|{673c78c33f89a1dd8287c3fd}|Ethereum   |3119.0 |2024-11-19T11:38:43.146319|\n",
            "|{673c78cd3f89a1dd8287c3fe}|Binancecoin|617.17 |2024-11-19T11:38:53.519422|\n",
            "|{673c78cd3f89a1dd8287c3ff}|Bitcoin    |91659.0|2024-11-19T11:38:53.520960|\n",
            "+--------------------------+-----------+-------+--------------------------+\n",
            "only showing top 5 rows\n",
            "\n",
            "root\n",
            " |-- _id: struct (nullable = true)\n",
            " |    |-- $oid: string (nullable = true)\n",
            " |-- currency: string (nullable = true)\n",
            " |-- price: double (nullable = true)\n",
            " |-- timestamp: string (nullable = true)\n",
            "\n"
          ]
        }
      ]
    },
    {
      "cell_type": "code",
      "source": [
        "from pyspark.sql.functions import col\n",
        "\n",
        "# Seleccionar columnas y aplanar el campo _id\n",
        "df = df.select(\n",
        "    col(\"currency\"),\n",
        "    col(\"price\"),\n",
        "    col(\"timestamp\"),\n",
        "    col(\"_id.$oid\").alias(\"id\")\n",
        ")\n",
        "\n",
        "# Mostrar primeras filas\n",
        "df.show(5, truncate=False)\n",
        "\n"
      ],
      "metadata": {
        "colab": {
          "base_uri": "https://localhost:8080/"
        },
        "id": "9Ydu6BWiY_bJ",
        "outputId": "1829524a-cf6b-455e-804b-81a7fcb35b87"
      },
      "execution_count": 7,
      "outputs": [
        {
          "output_type": "stream",
          "name": "stdout",
          "text": [
            "+-----------+-------+--------------------------+------------------------+\n",
            "|currency   |price  |timestamp                 |id                      |\n",
            "+-----------+-------+--------------------------+------------------------+\n",
            "|Binancecoin|617.17 |2024-11-19T11:38:43.122457|673c78c33f89a1dd8287c3fb|\n",
            "|Bitcoin    |91659.0|2024-11-19T11:38:43.144313|673c78c33f89a1dd8287c3fc|\n",
            "|Ethereum   |3119.0 |2024-11-19T11:38:43.146319|673c78c33f89a1dd8287c3fd|\n",
            "|Binancecoin|617.17 |2024-11-19T11:38:53.519422|673c78cd3f89a1dd8287c3fe|\n",
            "|Bitcoin    |91659.0|2024-11-19T11:38:53.520960|673c78cd3f89a1dd8287c3ff|\n",
            "+-----------+-------+--------------------------+------------------------+\n",
            "only showing top 5 rows\n",
            "\n"
          ]
        }
      ]
    },
    {
      "cell_type": "code",
      "source": [
        "# Importación de la función to_timestamp desde PySpark\n",
        "from pyspark.sql.functions import to_timestamp\n",
        "\n",
        "# Convertir la columna 'timestamp' de tipo string a un formato de fecha y hora\n",
        "df = df.withColumn(\"timestamp\", to_timestamp(\"timestamp\"))\n",
        "\n",
        "# Mostrar las primeras filas procesadas\n",
        "df.show(5, truncate=False)\n"
      ],
      "metadata": {
        "colab": {
          "base_uri": "https://localhost:8080/"
        },
        "id": "1dxHNzIQZhGb",
        "outputId": "efa8d5cd-27a6-472e-9601-e72db8846e82"
      },
      "execution_count": 8,
      "outputs": [
        {
          "output_type": "stream",
          "name": "stdout",
          "text": [
            "+-----------+-------+--------------------------+------------------------+\n",
            "|currency   |price  |timestamp                 |id                      |\n",
            "+-----------+-------+--------------------------+------------------------+\n",
            "|Binancecoin|617.17 |2024-11-19 11:38:43.122457|673c78c33f89a1dd8287c3fb|\n",
            "|Bitcoin    |91659.0|2024-11-19 11:38:43.144313|673c78c33f89a1dd8287c3fc|\n",
            "|Ethereum   |3119.0 |2024-11-19 11:38:43.146319|673c78c33f89a1dd8287c3fd|\n",
            "|Binancecoin|617.17 |2024-11-19 11:38:53.519422|673c78cd3f89a1dd8287c3fe|\n",
            "|Bitcoin    |91659.0|2024-11-19 11:38:53.52096 |673c78cd3f89a1dd8287c3ff|\n",
            "+-----------+-------+--------------------------+------------------------+\n",
            "only showing top 5 rows\n",
            "\n"
          ]
        }
      ]
    },
    {
      "cell_type": "code",
      "source": [
        "# Filtrar datos de Bitcoin\n",
        "bitcoin_df = df.filter(df.currency == \"Bitcoin\").select(\"timestamp\", \"price\")\n",
        "\n",
        "# Mostrar las primeras filas\n",
        "bitcoin_df.show(5, truncate=False)\n"
      ],
      "metadata": {
        "colab": {
          "base_uri": "https://localhost:8080/"
        },
        "id": "Ise2918oZq64",
        "outputId": "472a3483-649f-4461-8905-b7793d30aba3"
      },
      "execution_count": 9,
      "outputs": [
        {
          "output_type": "stream",
          "name": "stdout",
          "text": [
            "+--------------------------+-------+\n",
            "|timestamp                 |price  |\n",
            "+--------------------------+-------+\n",
            "|2024-11-19 11:38:43.144313|91659.0|\n",
            "|2024-11-19 11:38:53.52096 |91659.0|\n",
            "|2024-11-19 11:39:03.924472|91659.0|\n",
            "|2024-11-19 11:39:14.315415|91659.0|\n",
            "|2024-11-19 11:39:24.779973|91659.0|\n",
            "+--------------------------+-------+\n",
            "only showing top 5 rows\n",
            "\n"
          ]
        }
      ]
    },
    {
      "cell_type": "code",
      "source": [
        "import pandas as pd\n",
        "\n",
        "# Convertir a DataFrame\n",
        "bitcoin_data = bitcoin_df.toPandas()\n",
        "\n",
        "# Renombrar las columnas\n",
        "bitcoin_data = bitcoin_data.rename(columns={\"timestamp\": \"ds\", \"price\": \"y\"})\n",
        "\n",
        "# Mostrar las primeras filas del DataFrame para verificar los datos\n",
        "print(bitcoin_data.head())"
      ],
      "metadata": {
        "colab": {
          "base_uri": "https://localhost:8080/"
        },
        "id": "fyXhHn3cZuVh",
        "outputId": "50dbd8ab-ece5-493d-a0dc-cc0fb4d6b285"
      },
      "execution_count": 13,
      "outputs": [
        {
          "output_type": "stream",
          "name": "stdout",
          "text": [
            "                          ds        y\n",
            "0 2024-11-19 11:38:43.144313  91659.0\n",
            "1 2024-11-19 11:38:53.520960  91659.0\n",
            "2 2024-11-19 11:39:03.924472  91659.0\n",
            "3 2024-11-19 11:39:14.315415  91659.0\n",
            "4 2024-11-19 11:39:24.779973  91659.0\n"
          ]
        }
      ]
    },
    {
      "cell_type": "code",
      "source": [
        "# Importación de la prueba Dickey-Fuller para evaluar la estacionariedad\n",
        "from statsmodels.tsa.stattools import adfuller\n",
        "\n",
        "# Prueba ADF en la serie original\n",
        "adf_test = adfuller(bitcoin_data['y'])   # 'y' contiene los datos de precios de Bitcoin\n",
        "print(f\"ADF Statistic: {adf_test[0]}\")   # Estadístico ADF\n",
        "print(f\"p-value: {adf_test[1]}\")         # Valor p asociado\n",
        "\n",
        "# Decidir si la serie es estacionaria según el valor p\n",
        "if adf_test[1] > 0.05:\n",
        "    print(\"La serie no es estacionaria. Aplicando diferenciación...\")\n",
        "    bitcoin_data_diff = bitcoin_data['y'].diff().dropna()    # Diferenciación para eliminar tendencias\n",
        "else:\n",
        "    print(\"La serie es estacionaria.\")\n",
        "    bitcoin_data_diff = bitcoin_data['y']                    # No se realiza diferenciación\n"
      ],
      "metadata": {
        "colab": {
          "base_uri": "https://localhost:8080/"
        },
        "id": "XHDp8CBBikbm",
        "outputId": "5cdef8a7-fefa-4230-ac41-d90044bc55c6"
      },
      "execution_count": 14,
      "outputs": [
        {
          "output_type": "stream",
          "name": "stdout",
          "text": [
            "ADF Statistic: -0.6444438288890686\n",
            "p-value: 0.8606200654478603\n",
            "La serie no es estacionaria. Aplicando diferenciación...\n"
          ]
        }
      ]
    },
    {
      "cell_type": "code",
      "source": [
        "# Se realiza una segunda prueba para confirmar que la serie diferenciada es estacionaria\n",
        "\n",
        "adf_test_diff = adfuller(bitcoin_data_diff)\n",
        "print(f\"ADF Statistic (diferenciada): {adf_test_diff[0]}\")\n",
        "print(f\"p-value (diferenciada): {adf_test_diff[1]}\")\n",
        "\n",
        "if adf_test_diff[1] > 0.05:\n",
        "    print(\"La serie todavía no es estacionaria.\")\n",
        "else:\n",
        "    print(\"La serie ahora es estacionaria.\")\n"
      ],
      "metadata": {
        "colab": {
          "base_uri": "https://localhost:8080/"
        },
        "id": "bR1NIHf_i7hM",
        "outputId": "5c975e42-991f-480c-d710-0b674c7728a5"
      },
      "execution_count": 15,
      "outputs": [
        {
          "output_type": "stream",
          "name": "stdout",
          "text": [
            "ADF Statistic (diferenciada): -20.222790822231126\n",
            "p-value (diferenciada): 0.0\n",
            "La serie ahora es estacionaria.\n"
          ]
        }
      ]
    },
    {
      "cell_type": "code",
      "source": [
        "from statsmodels.tsa.arima.model import ARIMA\n",
        "from sklearn.metrics import mean_absolute_error, mean_squared_error\n",
        "import numpy as np\n",
        "\n",
        "# Cada tupla (p, d, q) representa los parámetros del modelo ARIMA:\n",
        "# p: número de términos autoregresivos (AR)\n",
        "# d: número de diferenciaciones necesarias para estacionariedad (diferencias)\n",
        "# q: número de términos de media móvil (MA)\n",
        "\n",
        "# Lista de parámetros a probar\n",
        "param_list = [(2, 1, 2), (5, 2, 1), (0, 2, 2), (3, 1, 3), (4, 2, 0)]\n",
        "\n",
        "# Diccionario para almacenar resultados\n",
        "results = {}\n",
        "\n",
        "# Probar diferentes configuraciones\n",
        "for params in param_list:\n",
        "    print(f\"Test ARIMA{params}...\")\n",
        "    try:\n",
        "        # Ajustar el modelo ARIMA\n",
        "        model = ARIMA(bitcoin_data_diff, order=params)\n",
        "        model_fit = model.fit()\n",
        "\n",
        "        # Calcular métricas\n",
        "        mae = mean_absolute_error(bitcoin_data_diff, model_fit.fittedvalues)\n",
        "        rmse = np.sqrt(mean_squared_error(bitcoin_data_diff, model_fit.fittedvalues))\n",
        "\n",
        "        # Guardar resultados\n",
        "        results[params] = {\n",
        "            'MAE': mae,\n",
        "            'RMSE': rmse,\n",
        "            'AIC': model_fit.aic,\n",
        "            'BIC': model_fit.bic\n",
        "        }\n",
        "\n",
        "        # Imprimir resultados del modelo actual\n",
        "        print(f\"ARIMA{params}: MAE={mae:.2f}, RMSE={rmse:.2f}, AIC={model_fit.aic:.2f}, BIC={model_fit.bic:.2f}\")\n",
        "\n",
        "    # Mostrar errores si el modelo no puede ser ajustado con los parámetros actuales\n",
        "    except Exception as e:\n",
        "        print(f\"Error con ARIMA{params}: {e}\")\n",
        "\n",
        "# Selección del mejor modelo basado en AIC\n",
        "best_params = min(results, key=lambda x: results[x]['AIC'])\n",
        "best_model_results = results[best_params]\n",
        "\n",
        "print(f\"\\nMejor modelo: ARIMA{best_params}\")\n",
        "print(f\"Resultados: {best_model_results}\")"
      ],
      "metadata": {
        "colab": {
          "base_uri": "https://localhost:8080/"
        },
        "id": "trdYyFhEjoFu",
        "outputId": "373cce47-13fc-4114-caae-b994871ce1f8"
      },
      "execution_count": 17,
      "outputs": [
        {
          "output_type": "stream",
          "name": "stdout",
          "text": [
            "Test ARIMA(2, 1, 2)...\n"
          ]
        },
        {
          "output_type": "stream",
          "name": "stderr",
          "text": [
            "/usr/local/lib/python3.10/dist-packages/statsmodels/tsa/base/tsa_model.py:473: ValueWarning: An unsupported index was provided. As a result, forecasts cannot be generated. To use the model for forecasting, use one of the supported classes of index.\n",
            "  self._init_dates(dates, freq)\n",
            "/usr/local/lib/python3.10/dist-packages/statsmodels/tsa/base/tsa_model.py:473: ValueWarning: An unsupported index was provided. As a result, forecasts cannot be generated. To use the model for forecasting, use one of the supported classes of index.\n",
            "  self._init_dates(dates, freq)\n",
            "/usr/local/lib/python3.10/dist-packages/statsmodels/tsa/base/tsa_model.py:473: ValueWarning: An unsupported index was provided. As a result, forecasts cannot be generated. To use the model for forecasting, use one of the supported classes of index.\n",
            "  self._init_dates(dates, freq)\n"
          ]
        },
        {
          "output_type": "stream",
          "name": "stdout",
          "text": [
            "ARIMA(2, 1, 2): MAE=8.93, RMSE=44.73, AIC=113072.49, BIC=113108.94\n",
            "Test ARIMA(5, 2, 1)...\n"
          ]
        },
        {
          "output_type": "stream",
          "name": "stderr",
          "text": [
            "/usr/local/lib/python3.10/dist-packages/statsmodels/tsa/base/tsa_model.py:473: ValueWarning: An unsupported index was provided. As a result, forecasts cannot be generated. To use the model for forecasting, use one of the supported classes of index.\n",
            "  self._init_dates(dates, freq)\n",
            "/usr/local/lib/python3.10/dist-packages/statsmodels/tsa/base/tsa_model.py:473: ValueWarning: An unsupported index was provided. As a result, forecasts cannot be generated. To use the model for forecasting, use one of the supported classes of index.\n",
            "  self._init_dates(dates, freq)\n",
            "/usr/local/lib/python3.10/dist-packages/statsmodels/tsa/base/tsa_model.py:473: ValueWarning: An unsupported index was provided. As a result, forecasts cannot be generated. To use the model for forecasting, use one of the supported classes of index.\n",
            "  self._init_dates(dates, freq)\n",
            "/usr/local/lib/python3.10/dist-packages/statsmodels/tsa/statespace/sarimax.py:978: UserWarning: Non-invertible starting MA parameters found. Using zeros as starting parameters.\n",
            "  warn('Non-invertible starting MA parameters found.'\n",
            "/usr/local/lib/python3.10/dist-packages/statsmodels/base/model.py:607: ConvergenceWarning: Maximum Likelihood optimization failed to converge. Check mle_retvals\n",
            "  warnings.warn(\"Maximum Likelihood optimization failed to \"\n"
          ]
        },
        {
          "output_type": "stream",
          "name": "stdout",
          "text": [
            "ARIMA(5, 2, 1): MAE=16.59, RMSE=48.32, AIC=114742.23, BIC=114793.26\n",
            "Test ARIMA(0, 2, 2)...\n"
          ]
        },
        {
          "output_type": "stream",
          "name": "stderr",
          "text": [
            "/usr/local/lib/python3.10/dist-packages/statsmodels/tsa/base/tsa_model.py:473: ValueWarning: An unsupported index was provided. As a result, forecasts cannot be generated. To use the model for forecasting, use one of the supported classes of index.\n",
            "  self._init_dates(dates, freq)\n",
            "/usr/local/lib/python3.10/dist-packages/statsmodels/tsa/base/tsa_model.py:473: ValueWarning: An unsupported index was provided. As a result, forecasts cannot be generated. To use the model for forecasting, use one of the supported classes of index.\n",
            "  self._init_dates(dates, freq)\n",
            "/usr/local/lib/python3.10/dist-packages/statsmodels/tsa/base/tsa_model.py:473: ValueWarning: An unsupported index was provided. As a result, forecasts cannot be generated. To use the model for forecasting, use one of the supported classes of index.\n",
            "  self._init_dates(dates, freq)\n"
          ]
        },
        {
          "output_type": "stream",
          "name": "stdout",
          "text": [
            "ARIMA(0, 2, 2): MAE=11.39, RMSE=44.96, AIC=113176.33, BIC=113198.20\n",
            "Test ARIMA(3, 1, 3)...\n"
          ]
        },
        {
          "output_type": "stream",
          "name": "stderr",
          "text": [
            "/usr/local/lib/python3.10/dist-packages/statsmodels/tsa/base/tsa_model.py:473: ValueWarning: An unsupported index was provided. As a result, forecasts cannot be generated. To use the model for forecasting, use one of the supported classes of index.\n",
            "  self._init_dates(dates, freq)\n",
            "/usr/local/lib/python3.10/dist-packages/statsmodels/tsa/base/tsa_model.py:473: ValueWarning: An unsupported index was provided. As a result, forecasts cannot be generated. To use the model for forecasting, use one of the supported classes of index.\n",
            "  self._init_dates(dates, freq)\n",
            "/usr/local/lib/python3.10/dist-packages/statsmodels/tsa/base/tsa_model.py:473: ValueWarning: An unsupported index was provided. As a result, forecasts cannot be generated. To use the model for forecasting, use one of the supported classes of index.\n",
            "  self._init_dates(dates, freq)\n",
            "/usr/local/lib/python3.10/dist-packages/statsmodels/base/model.py:607: ConvergenceWarning: Maximum Likelihood optimization failed to converge. Check mle_retvals\n",
            "  warnings.warn(\"Maximum Likelihood optimization failed to \"\n"
          ]
        },
        {
          "output_type": "stream",
          "name": "stdout",
          "text": [
            "ARIMA(3, 1, 3): MAE=9.09, RMSE=44.73, AIC=113074.52, BIC=113125.55\n",
            "Test ARIMA(4, 2, 0)...\n"
          ]
        },
        {
          "output_type": "stream",
          "name": "stderr",
          "text": [
            "/usr/local/lib/python3.10/dist-packages/statsmodels/tsa/base/tsa_model.py:473: ValueWarning: An unsupported index was provided. As a result, forecasts cannot be generated. To use the model for forecasting, use one of the supported classes of index.\n",
            "  self._init_dates(dates, freq)\n",
            "/usr/local/lib/python3.10/dist-packages/statsmodels/tsa/base/tsa_model.py:473: ValueWarning: An unsupported index was provided. As a result, forecasts cannot be generated. To use the model for forecasting, use one of the supported classes of index.\n",
            "  self._init_dates(dates, freq)\n",
            "/usr/local/lib/python3.10/dist-packages/statsmodels/tsa/base/tsa_model.py:473: ValueWarning: An unsupported index was provided. As a result, forecasts cannot be generated. To use the model for forecasting, use one of the supported classes of index.\n",
            "  self._init_dates(dates, freq)\n"
          ]
        },
        {
          "output_type": "stream",
          "name": "stdout",
          "text": [
            "ARIMA(4, 2, 0): MAE=24.35, RMSE=61.13, AIC=119825.91, BIC=119862.36\n",
            "\n",
            "Mejor modelo: ARIMA(2, 1, 2)\n",
            "Resultados: {'MAE': 8.931084483625305, 'RMSE': 44.734867260333665, 'AIC': 113072.48766692865, 'BIC': 113108.93804362862}\n"
          ]
        }
      ]
    },
    {
      "cell_type": "code",
      "source": [
        "# Remuestreo de los datos a intervalos de 1 minuto\n",
        "bitcoin_data_resampled = (\n",
        "    bitcoin_data.set_index(\"ds\")  # Establecer el índice\n",
        "    .resample(\"T\")                # 'T' para remuestrear a minutos\n",
        "    .mean()                       # Calcular el promedio por intervalo\n",
        "    .dropna()                     # Eliminar valores nulos\n",
        "    .reset_index()                # Reiniciar el índice para su posterior uso\n",
        ")\n",
        "\n",
        "# Configurar nuevamente la columna \"ds\" como índice\n",
        "bitcoin_data_resampled = bitcoin_data_resampled.set_index('ds')"
      ],
      "metadata": {
        "colab": {
          "base_uri": "https://localhost:8080/"
        },
        "id": "wYw_fQGtCDLv",
        "outputId": "a769a24b-508b-4aa1-b155-76e9ef5f2bd7"
      },
      "execution_count": 18,
      "outputs": [
        {
          "output_type": "stream",
          "name": "stderr",
          "text": [
            "<ipython-input-18-739d53ba5f9b>:4: FutureWarning: 'T' is deprecated and will be removed in a future version, please use 'min' instead.\n",
            "  .resample(\"T\")                # 'T' para remuestrear a minutos\n"
          ]
        }
      ]
    },
    {
      "cell_type": "markdown",
      "source": [
        "# Ajustar el rango de fechas con la frecuencia explícita\n",
        "new_index_eth = pd.date_range(\n",
        "    start=ethereum_data_resampled.index[0],\n",
        "    periods=len(ethereum_data_resampled),\n",
        "    freq='T'  # Cambiado de 'T' a 'min' si es necesario\n",
        ")\n",
        "\n",
        "ethereum_data_resampled.index = new_index_eth\n",
        "\n",
        "# Verificar el resultado\n",
        "print(ethereum_data_resampled.head())"
      ],
      "metadata": {
        "id": "p0CvvnPqG3Cl"
      }
    },
    {
      "cell_type": "code",
      "source": [
        "import matplotlib.pyplot as plt\n",
        "\n",
        "# Ajustar el modelo ARIMA con los parámetros óptimos identificados (2, 1, 2)\n",
        "model = ARIMA(bitcoin_data_diff, order=(2, 1, 2))\n",
        "model_fit = model.fit()\n",
        "\n",
        "# Mostrar el resumen del modelo\n",
        "# información estadística detallada sobre los parámetros ajustados,\n",
        "# como coeficientes, errores estándar, valores AIC/BIC, y residuales\n",
        "print(model_fit.summary())\n",
        "\n",
        "# Generar predicciones\n",
        "forecast_steps = 300  # Número de pasos a predecir\n",
        "forecast = model_fit.forecast(steps=forecast_steps)\n",
        "\n",
        "# Crear índice para las predicciones\n",
        "forecast_index = pd.date_range(start=bitcoin_data_resampled.index[-1], periods=forecast_steps + 1, freq='T')[1:]\n",
        "\n",
        "# Ajustar las predicciones para volver a los valores originales\n",
        "forecast_cumsum = forecast.cumsum() + bitcoin_data_resampled['y'].iloc[-1]\n",
        "\n",
        "# Convertir predicciones a DataFrame\n",
        "forecast_df = pd.DataFrame({'ds': forecast_index, 'y_pred': forecast_cumsum})\n",
        "\n",
        "# Visualización de los resultados\n",
        "plt.figure(figsize=(12, 6))\n",
        "plt.plot(bitcoin_data_resampled.index[-500:], bitcoin_data_resampled['y'][-500:], label='Actual Data', color='blue')\n",
        "plt.plot(forecast_df['ds'], forecast_df['y_pred'], label=' Prediction ', color='red', linestyle='--')\n",
        "plt.title('Bitcoin Prediction (ARIMA)', fontsize=16)\n",
        "plt.xlabel('Date', fontsize=14)\n",
        "plt.ylabel('Price', fontsize=14)\n",
        "plt.legend(fontsize=12)\n",
        "plt.grid()\n",
        "plt.show()"
      ],
      "metadata": {
        "colab": {
          "base_uri": "https://localhost:8080/",
          "height": 1000
        },
        "id": "vCd0hmoakcKQ",
        "outputId": "e3d3e587-de69-47b1-a54e-6e3feec086b4"
      },
      "execution_count": 20,
      "outputs": [
        {
          "output_type": "stream",
          "name": "stderr",
          "text": [
            "/usr/local/lib/python3.10/dist-packages/statsmodels/tsa/base/tsa_model.py:473: ValueWarning: An unsupported index was provided. As a result, forecasts cannot be generated. To use the model for forecasting, use one of the supported classes of index.\n",
            "  self._init_dates(dates, freq)\n",
            "/usr/local/lib/python3.10/dist-packages/statsmodels/tsa/base/tsa_model.py:473: ValueWarning: An unsupported index was provided. As a result, forecasts cannot be generated. To use the model for forecasting, use one of the supported classes of index.\n",
            "  self._init_dates(dates, freq)\n",
            "/usr/local/lib/python3.10/dist-packages/statsmodels/tsa/base/tsa_model.py:473: ValueWarning: An unsupported index was provided. As a result, forecasts cannot be generated. To use the model for forecasting, use one of the supported classes of index.\n",
            "  self._init_dates(dates, freq)\n"
          ]
        },
        {
          "output_type": "stream",
          "name": "stdout",
          "text": [
            "                               SARIMAX Results                                \n",
            "==============================================================================\n",
            "Dep. Variable:                      y   No. Observations:                10831\n",
            "Model:                 ARIMA(2, 1, 2)   Log Likelihood              -56531.244\n",
            "Date:                Wed, 18 Dec 2024   AIC                         113072.488\n",
            "Time:                        18:08:19   BIC                         113108.938\n",
            "Sample:                             0   HQIC                        113084.777\n",
            "                              - 10831                                         \n",
            "Covariance Type:                  opg                                         \n",
            "==============================================================================\n",
            "                 coef    std err          z      P>|z|      [0.025      0.975]\n",
            "------------------------------------------------------------------------------\n",
            "ar.L1         -1.0021      0.034    -29.111      0.000      -1.070      -0.935\n",
            "ar.L2         -0.0042      0.033     -0.126      0.899      -0.069       0.061\n",
            "ma.L1         -0.0025      0.121     -0.021      0.983      -0.241       0.236\n",
            "ma.L2         -0.9975      0.120     -8.303      0.000      -1.233      -0.762\n",
            "sigma2      2000.1133    240.704      8.309      0.000    1528.341    2471.885\n",
            "===================================================================================\n",
            "Ljung-Box (L1) (Q):                   0.00   Jarque-Bera (JB):           2163275.22\n",
            "Prob(Q):                              0.99   Prob(JB):                         0.00\n",
            "Heteroskedasticity (H):               1.06   Skew:                             0.53\n",
            "Prob(H) (two-sided):                  0.07   Kurtosis:                        72.23\n",
            "===================================================================================\n",
            "\n",
            "Warnings:\n",
            "[1] Covariance matrix calculated using the outer product of gradients (complex-step).\n"
          ]
        },
        {
          "output_type": "stream",
          "name": "stderr",
          "text": [
            "/usr/local/lib/python3.10/dist-packages/statsmodels/tsa/base/tsa_model.py:837: ValueWarning: No supported index is available. Prediction results will be given with an integer index beginning at `start`.\n",
            "  return get_prediction_index(\n",
            "/usr/local/lib/python3.10/dist-packages/statsmodels/tsa/base/tsa_model.py:837: FutureWarning: No supported index is available. In the next version, calling this method in a model without a supported index will result in an exception.\n",
            "  return get_prediction_index(\n",
            "<ipython-input-20-2dcbbc796418>:17: FutureWarning: 'T' is deprecated and will be removed in a future version, please use 'min' instead.\n",
            "  forecast_index = pd.date_range(start=bitcoin_data_resampled.index[-1], periods=forecast_steps + 1, freq='T')[1:]\n"
          ]
        },
        {
          "output_type": "display_data",
          "data": {
            "text/plain": [
              "<Figure size 1200x600 with 1 Axes>"
            ],
            "image/png": "[encoded data removed]"
          },
          "metadata": {}
        }
      ]
    }
  ]
}