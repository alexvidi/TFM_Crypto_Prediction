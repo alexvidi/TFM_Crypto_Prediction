{
  "nbformat": 4,
  "nbformat_minor": 0,
  "metadata": {
    "colab": {
      "provenance": []
    },
    "kernelspec": {
      "name": "python3",
      "display_name": "Python 3"
    },
    "language_info": {
      "name": "python"
    }
  },
  "cells": [
    {
      "cell_type": "code",
      "execution_count": 1,
      "metadata": {
        "colab": {
          "base_uri": "https://localhost:8080/",
          "height": 71
        },
        "id": "0Oin9E9yDVZr",
        "outputId": "f338a699-9811-4058-d7a2-be47f0c94ff4"
      },
      "outputs": [
        {
          "output_type": "display_data",
          "data": {
            "text/plain": [
              "<IPython.core.display.HTML object>"
            ],
            "text/html": [
              "\n",
              "     <input type=\"file\" id=\"files-ea0e3748-be88-45e8-888a-71dfb62217df\" name=\"files[]\" multiple disabled\n",
              "        style=\"border:none\" />\n",
              "     <output id=\"result-ea0e3748-be88-45e8-888a-71dfb62217df\">\n",
              "      Upload widget is only available when the cell has been executed in the\n",
              "      current browser session. Please rerun this cell to enable.\n",
              "      </output>\n",
              "      <script>// Copyright 2017 Google LLC\n",
              "//\n",
              "// Licensed under the Apache License, Version 2.0 (the \"License\");\n",
              "// you may not use this file except in compliance with the License.\n",
              "// You may obtain a copy of the License at\n",
              "//\n",
              "//      http://www.apache.org/licenses/LICENSE-2.0\n",
              "//\n",
              "// Unless required by applicable law or agreed to in writing, software\n",
              "// distributed under the License is distributed on an \"AS IS\" BASIS,\n",
              "// WITHOUT WARRANTIES OR CONDITIONS OF ANY KIND, either express or implied.\n",
              "// See the License for the specific language governing permissions and\n",
              "// limitations under the License.\n",
              "\n",
              "/**\n",
              " * @fileoverview Helpers for google.colab Python module.\n",
              " */\n",
              "(function(scope) {\n",
              "function span(text, styleAttributes = {}) {\n",
              "  const element = document.createElement('span');\n",
              "  element.textContent = text;\n",
              "  for (const key of Object.keys(styleAttributes)) {\n",
              "    element.style[key] = styleAttributes[key];\n",
              "  }\n",
              "  return element;\n",
              "}\n",
              "\n",
              "// Max number of bytes which will be uploaded at a time.\n",
              "const MAX_PAYLOAD_SIZE = 100 * 1024;\n",
              "\n",
              "function _uploadFiles(inputId, outputId) {\n",
              "  const steps = uploadFilesStep(inputId, outputId);\n",
              "  const outputElement = document.getElementById(outputId);\n",
              "  // Cache steps on the outputElement to make it available for the next call\n",
              "  // to uploadFilesContinue from Python.\n",
              "  outputElement.steps = steps;\n",
              "\n",
              "  return _uploadFilesContinue(outputId);\n",
              "}\n",
              "\n",
              "// This is roughly an async generator (not supported in the browser yet),\n",
              "// where there are multiple asynchronous steps and the Python side is going\n",
              "// to poll for completion of each step.\n",
              "// This uses a Promise to block the python side on completion of each step,\n",
              "// then passes the result of the previous step as the input to the next step.\n",
              "function _uploadFilesContinue(outputId) {\n",
              "  const outputElement = document.getElementById(outputId);\n",
              "  const steps = outputElement.steps;\n",
              "\n",
              "  const next = steps.next(outputElement.lastPromiseValue);\n",
              "  return Promise.resolve(next.value.promise).then((value) => {\n",
              "    // Cache the last promise value to make it available to the next\n",
              "    // step of the generator.\n",
              "    outputElement.lastPromiseValue = value;\n",
              "    return next.value.response;\n",
              "  });\n",
              "}\n",
              "\n",
              "/**\n",
              " * Generator function which is called between each async step of the upload\n",
              " * process.\n",
              " * @param {string} inputId Element ID of the input file picker element.\n",
              " * @param {string} outputId Element ID of the output display.\n",
              " * @return {!Iterable<!Object>} Iterable of next steps.\n",
              " */\n",
              "function* uploadFilesStep(inputId, outputId) {\n",
              "  const inputElement = document.getElementById(inputId);\n",
              "  inputElement.disabled = false;\n",
              "\n",
              "  const outputElement = document.getElementById(outputId);\n",
              "  outputElement.innerHTML = '';\n",
              "\n",
              "  const pickedPromise = new Promise((resolve) => {\n",
              "    inputElement.addEventListener('change', (e) => {\n",
              "      resolve(e.target.files);\n",
              "    });\n",
              "  });\n",
              "\n",
              "  const cancel = document.createElement('button');\n",
              "  inputElement.parentElement.appendChild(cancel);\n",
              "  cancel.textContent = 'Cancel upload';\n",
              "  const cancelPromise = new Promise((resolve) => {\n",
              "    cancel.onclick = () => {\n",
              "      resolve(null);\n",
              "    };\n",
              "  });\n",
              "\n",
              "  // Wait for the user to pick the files.\n",
              "  const files = yield {\n",
              "    promise: Promise.race([pickedPromise, cancelPromise]),\n",
              "    response: {\n",
              "      action: 'starting',\n",
              "    }\n",
              "  };\n",
              "\n",
              "  cancel.remove();\n",
              "\n",
              "  // Disable the input element since further picks are not allowed.\n",
              "  inputElement.disabled = true;\n",
              "\n",
              "  if (!files) {\n",
              "    return {\n",
              "      response: {\n",
              "        action: 'complete',\n",
              "      }\n",
              "    };\n",
              "  }\n",
              "\n",
              "  for (const file of files) {\n",
              "    const li = document.createElement('li');\n",
              "    li.append(span(file.name, {fontWeight: 'bold'}));\n",
              "    li.append(span(\n",
              "        `(${file.type || 'n/a'}) - ${file.size} bytes, ` +\n",
              "        `last modified: ${\n",
              "            file.lastModifiedDate ? file.lastModifiedDate.toLocaleDateString() :\n",
              "                                    'n/a'} - `));\n",
              "    const percent = span('0% done');\n",
              "    li.appendChild(percent);\n",
              "\n",
              "    outputElement.appendChild(li);\n",
              "\n",
              "    const fileDataPromise = new Promise((resolve) => {\n",
              "      const reader = new FileReader();\n",
              "      reader.onload = (e) => {\n",
              "        resolve(e.target.result);\n",
              "      };\n",
              "      reader.readAsArrayBuffer(file);\n",
              "    });\n",
              "    // Wait for the data to be ready.\n",
              "    let fileData = yield {\n",
              "      promise: fileDataPromise,\n",
              "      response: {\n",
              "        action: 'continue',\n",
              "      }\n",
              "    };\n",
              "\n",
              "    // Use a chunked sending to avoid message size limits. See b/62115660.\n",
              "    let position = 0;\n",
              "    do {\n",
              "      const length = Math.min(fileData.byteLength - position, MAX_PAYLOAD_SIZE);\n",
              "      const chunk = new Uint8Array(fileData, position, length);\n",
              "      position += length;\n",
              "\n",
              "      const base64 = btoa(String.fromCharCode.apply(null, chunk));\n",
              "      yield {\n",
              "        response: {\n",
              "          action: 'append',\n",
              "          file: file.name,\n",
              "          data: base64,\n",
              "        },\n",
              "      };\n",
              "\n",
              "      let percentDone = fileData.byteLength === 0 ?\n",
              "          100 :\n",
              "          Math.round((position / fileData.byteLength) * 100);\n",
              "      percent.textContent = `${percentDone}% done`;\n",
              "\n",
              "    } while (position < fileData.byteLength);\n",
              "  }\n",
              "\n",
              "  // All done.\n",
              "  yield {\n",
              "    response: {\n",
              "      action: 'complete',\n",
              "    }\n",
              "  };\n",
              "}\n",
              "\n",
              "scope.google = scope.google || {};\n",
              "scope.google.colab = scope.google.colab || {};\n",
              "scope.google.colab._files = {\n",
              "  _uploadFiles,\n",
              "  _uploadFilesContinue,\n",
              "};\n",
              "})(self);\n",
              "</script> "
            ]
          },
          "metadata": {}
        },
        {
          "output_type": "stream",
          "name": "stdout",
          "text": [
            "Saving crypto_db.crypto_data2.json to crypto_db.crypto_data2.json\n"
          ]
        }
      ],
      "source": [
        "from google.colab import files\n",
        "\n",
        "# Subir archivo JSON\n",
        "uploaded = files.upload()"
      ]
    },
    {
      "cell_type": "code",
      "source": [
        "from pyspark.sql import SparkSession\n",
        "\n",
        "# Inicializar sesión de Spark\n",
        "spark = SparkSession.builder \\\n",
        "    .appName(\"Crypto Analysis\") \\\n",
        "    .getOrCreate()\n",
        "\n",
        "# Leer el archivo JSON\n",
        "df = spark.read.option(\"multiline\", \"true\").json(\"crypto_db.crypto_data2.json\")\n",
        "\n",
        "# Mostrar primeras filas\n",
        "df.show(5, truncate=False)\n",
        "\n",
        "# Esquema del DataFrame\n",
        "df.printSchema()"
      ],
      "metadata": {
        "colab": {
          "base_uri": "https://localhost:8080/"
        },
        "id": "PD81ZRKQEk1k",
        "outputId": "e17ece82-24ff-4e3d-aef0-fed04dbbf6c8"
      },
      "execution_count": 2,
      "outputs": [
        {
          "output_type": "stream",
          "name": "stdout",
          "text": [
            "+--------------------------+-----------+-------+--------------------------+\n",
            "|_id                       |currency   |price  |timestamp                 |\n",
            "+--------------------------+-----------+-------+--------------------------+\n",
            "|{673c78c33f89a1dd8287c3fb}|Binancecoin|617.17 |2024-11-19T11:38:43.122457|\n",
            "|{673c78c33f89a1dd8287c3fc}|Bitcoin    |91659.0|2024-11-19T11:38:43.144313|\n",
            "|{673c78c33f89a1dd8287c3fd}|Ethereum   |3119.0 |2024-11-19T11:38:43.146319|\n",
            "|{673c78cd3f89a1dd8287c3fe}|Binancecoin|617.17 |2024-11-19T11:38:53.519422|\n",
            "|{673c78cd3f89a1dd8287c3ff}|Bitcoin    |91659.0|2024-11-19T11:38:53.520960|\n",
            "+--------------------------+-----------+-------+--------------------------+\n",
            "only showing top 5 rows\n",
            "\n",
            "root\n",
            " |-- _id: struct (nullable = true)\n",
            " |    |-- $oid: string (nullable = true)\n",
            " |-- currency: string (nullable = true)\n",
            " |-- price: double (nullable = true)\n",
            " |-- timestamp: string (nullable = true)\n",
            "\n"
          ]
        }
      ]
    },
    {
      "cell_type": "code",
      "source": [
        "from pyspark.sql.functions import col\n",
        "\n",
        "# Seleccionar columnas y aplanar el campo _id\n",
        "df = df.select(\n",
        "    col(\"currency\"),\n",
        "    col(\"price\"),\n",
        "    col(\"timestamp\"),\n",
        "    col(\"_id.$oid\").alias(\"id\")\n",
        ")\n",
        "\n",
        "# Mostrar primeras filas\n",
        "df.show(5, truncate=False)"
      ],
      "metadata": {
        "colab": {
          "base_uri": "https://localhost:8080/"
        },
        "id": "3zVBHP6-EoFL",
        "outputId": "f1ba9be7-ae70-4843-8faf-05b6b2720d82"
      },
      "execution_count": 3,
      "outputs": [
        {
          "output_type": "stream",
          "name": "stdout",
          "text": [
            "+-----------+-------+--------------------------+------------------------+\n",
            "|currency   |price  |timestamp                 |id                      |\n",
            "+-----------+-------+--------------------------+------------------------+\n",
            "|Binancecoin|617.17 |2024-11-19T11:38:43.122457|673c78c33f89a1dd8287c3fb|\n",
            "|Bitcoin    |91659.0|2024-11-19T11:38:43.144313|673c78c33f89a1dd8287c3fc|\n",
            "|Ethereum   |3119.0 |2024-11-19T11:38:43.146319|673c78c33f89a1dd8287c3fd|\n",
            "|Binancecoin|617.17 |2024-11-19T11:38:53.519422|673c78cd3f89a1dd8287c3fe|\n",
            "|Bitcoin    |91659.0|2024-11-19T11:38:53.520960|673c78cd3f89a1dd8287c3ff|\n",
            "+-----------+-------+--------------------------+------------------------+\n",
            "only showing top 5 rows\n",
            "\n"
          ]
        }
      ]
    },
    {
      "cell_type": "code",
      "source": [
        "# Importación de la función to_timestamp desde PySpark\n",
        "from pyspark.sql.functions import to_timestamp\n",
        "\n",
        "# Convertir la columna 'timestamp' de tipo string a un formato de fecha y hora\n",
        "df = df.withColumn(\"timestamp\", to_timestamp(\"timestamp\"))\n",
        "\n",
        "# Mostrar las primeras filas procesadas\n",
        "df.show(5, truncate=False)"
      ],
      "metadata": {
        "colab": {
          "base_uri": "https://localhost:8080/"
        },
        "id": "b9Sawc8aEthz",
        "outputId": "1ea57f8b-bc63-4585-ab5f-4179cc4cd6a1"
      },
      "execution_count": 4,
      "outputs": [
        {
          "output_type": "stream",
          "name": "stdout",
          "text": [
            "+-----------+-------+--------------------------+------------------------+\n",
            "|currency   |price  |timestamp                 |id                      |\n",
            "+-----------+-------+--------------------------+------------------------+\n",
            "|Binancecoin|617.17 |2024-11-19 11:38:43.122457|673c78c33f89a1dd8287c3fb|\n",
            "|Bitcoin    |91659.0|2024-11-19 11:38:43.144313|673c78c33f89a1dd8287c3fc|\n",
            "|Ethereum   |3119.0 |2024-11-19 11:38:43.146319|673c78c33f89a1dd8287c3fd|\n",
            "|Binancecoin|617.17 |2024-11-19 11:38:53.519422|673c78cd3f89a1dd8287c3fe|\n",
            "|Bitcoin    |91659.0|2024-11-19 11:38:53.52096 |673c78cd3f89a1dd8287c3ff|\n",
            "+-----------+-------+--------------------------+------------------------+\n",
            "only showing top 5 rows\n",
            "\n"
          ]
        }
      ]
    },
    {
      "cell_type": "code",
      "source": [
        "import pandas as pd\n",
        "\n",
        "# Filtrar datos de Ethereum\n",
        "ethereum_df = df.filter(df.currency == \"Ethereum\").select(\"timestamp\", \"price\")\n",
        "\n",
        "# Convertir a DataFrame\n",
        "ethereum_data = ethereum_df.toPandas()\n",
        "\n",
        "# Renombrar las columnas\n",
        "ethereum_data = ethereum_data.rename(columns={\"timestamp\": \"ds\", \"price\": \"y\"})\n",
        "ethereum_data[\"ds\"] = pd.to_datetime(ethereum_data[\"ds\"])\n",
        "\n",
        "# Mostrar las primeras filas del DataFrame para verificar los datos\n",
        "print(ethereum_data.head())"
      ],
      "metadata": {
        "colab": {
          "base_uri": "https://localhost:8080/"
        },
        "id": "Nw7NvqK7E4vV",
        "outputId": "5dee8e13-2497-4881-ddad-45a2ef5777ff"
      },
      "execution_count": 5,
      "outputs": [
        {
          "output_type": "stream",
          "name": "stdout",
          "text": [
            "                          ds       y\n",
            "0 2024-11-19 11:38:43.146319  3119.0\n",
            "1 2024-11-19 11:38:53.521974  3119.0\n",
            "2 2024-11-19 11:39:03.926473  3119.0\n",
            "3 2024-11-19 11:39:14.316416  3119.0\n",
            "4 2024-11-19 11:39:24.780533  3119.0\n"
          ]
        }
      ]
    },
    {
      "cell_type": "code",
      "source": [
        "# Importación de la prueba Dickey-Fuller para evaluar la estacionariedad\n",
        "from statsmodels.tsa.stattools import adfuller\n",
        "\n",
        "# Verificar estacionariedad de la serie de Ethereum\n",
        "adf_test_eth = adfuller(ethereum_data['y'])     # 'y' contiene los datos de precios de Ethereum\n",
        "print(f\"ADF Statistic: {adf_test_eth[0]}\")      # Estadístico ADF\n",
        "print(f\"p-value: {adf_test_eth[1]}\")            # Valor p asociado\n",
        "\n",
        "# Decidir si la serie es estacionaria según el valor p\n",
        "if adf_test_eth[1] > 0.05:\n",
        "    print(\"La serie no es estacionaria. Aplicando diferenciación...\")\n",
        "    ethereum_data_diff = ethereum_data['y'].diff().dropna()     # Diferenciación para eliminar tendencias\n",
        "else:\n",
        "    print(\"La serie es estacionaria.\")\n",
        "    ethereum_data_diff = ethereum_data['y']                     # No se realiza diferenciación"
      ],
      "metadata": {
        "colab": {
          "base_uri": "https://localhost:8080/"
        },
        "id": "fS0lFlHiFE5-",
        "outputId": "5f0b0fb3-2a76-4b8a-83f3-a35fcd4e919d"
      },
      "execution_count": 6,
      "outputs": [
        {
          "output_type": "stream",
          "name": "stdout",
          "text": [
            "ADF Statistic: -0.41468353890192355\n",
            "p-value: 0.9076181343649015\n",
            "La serie no es estacionaria. Aplicando diferenciación...\n"
          ]
        }
      ]
    },
    {
      "cell_type": "code",
      "source": [
        "# Se realiza una segunda prueba para confirmar que la serie diferenciada es estacionaria\n",
        "adf_test_eth_diff = adfuller(ethereum_data_diff)\n",
        "print(f\"ADF Statistic (diferenciada): {adf_test_eth_diff[0]}\")\n",
        "print(f\"p-value (diferenciada): {adf_test_eth_diff[1]}\")\n",
        "\n",
        "if adf_test_eth_diff[1] <= 0.05:\n",
        "    print(\"La serie ahora es estacionaria.\")\n",
        "else:\n",
        "    print(\"La serie todavía no es estacionaria\")\n"
      ],
      "metadata": {
        "colab": {
          "base_uri": "https://localhost:8080/"
        },
        "id": "tTddMFH_Fb7e",
        "outputId": "45b8d957-2cd1-45ff-fb48-8d3e59fb6cc0"
      },
      "execution_count": 7,
      "outputs": [
        {
          "output_type": "stream",
          "name": "stdout",
          "text": [
            "ADF Statistic (diferenciada): -16.0489985137138\n",
            "p-value (diferenciada): 5.802360067506807e-29\n",
            "La serie ahora es estacionaria.\n"
          ]
        }
      ]
    },
    {
      "cell_type": "code",
      "source": [
        "from statsmodels.tsa.arima.model import ARIMA\n",
        "from sklearn.metrics import mean_absolute_error, mean_squared_error\n",
        "import numpy as np\n",
        "\n",
        "# Cada tupla (p, d, q) representa los parámetros del modelo ARIMA:\n",
        "# p: número de términos autoregresivos (AR)\n",
        "# d: número de diferenciaciones necesarias para estacionariedad (diferencias)\n",
        "# q: número de términos de media móvil (MA)\n",
        "\n",
        "# Lista de parámetros a probar\n",
        "param_list = [(2, 1, 2), (5, 2, 1), (0, 2, 2), (3, 1, 3), (4, 2, 0)]\n",
        "\n",
        "# Diccionario para almacenar resultados\n",
        "results_eth = {}\n",
        "\n",
        "# Probar diferentes configuraciones\n",
        "for params in param_list:\n",
        "    print(f\"Test ARIMA{params}...\")\n",
        "    try:\n",
        "        # Ajustar el modelo ARIMA\n",
        "        model = ARIMA(ethereum_data_diff, order=params)\n",
        "        model_fit = model.fit()\n",
        "\n",
        "        # Calcular métricas\n",
        "        mae = mean_absolute_error(ethereum_data_diff, model_fit.fittedvalues)\n",
        "        rmse = np.sqrt(mean_squared_error(ethereum_data_diff, model_fit.fittedvalues))\n",
        "\n",
        "        # Guardar resultados\n",
        "        results_eth[params] = {\n",
        "            'MAE': mae,\n",
        "            'RMSE': rmse,\n",
        "            'AIC': model_fit.aic,\n",
        "            'BIC': model_fit.bic\n",
        "        }\n",
        "        # Imprimir resultados del modelo actual\n",
        "        print(f\"ARIMA{params}: MAE={mae:.2f}, RMSE={rmse:.2f}, AIC={model_fit.aic:.2f}, BIC={model_fit.bic:.2f}\")\n",
        "\n",
        "    # Mostrar errores si el modelo no puede ser ajustado con los parámetros actuales\n",
        "    except Exception as e:\n",
        "        print(f\"Error con ARIMA{params}: {e}\")\n",
        "\n",
        "# Selección del mejor modelo basado en AIC\n",
        "best_params_eth = min(results_eth, key=lambda x: results_eth[x]['AIC'])\n",
        "print(f\"\\nMejor modelo: ARIMA{best_params_eth}\")\n",
        "print(f\"Resultados: {results_eth[best_params_eth]}\")"
      ],
      "metadata": {
        "colab": {
          "base_uri": "https://localhost:8080/"
        },
        "id": "rTQ9RF02Fn0Q",
        "outputId": "930a0645-f599-4ed5-a84d-f24bd9cfaff5"
      },
      "execution_count": 8,
      "outputs": [
        {
          "output_type": "stream",
          "name": "stdout",
          "text": [
            "Test ARIMA(2, 1, 2)...\n"
          ]
        },
        {
          "output_type": "stream",
          "name": "stderr",
          "text": [
            "/usr/local/lib/python3.10/dist-packages/statsmodels/tsa/base/tsa_model.py:473: ValueWarning: An unsupported index was provided. As a result, forecasts cannot be generated. To use the model for forecasting, use one of the supported classes of index.\n",
            "  self._init_dates(dates, freq)\n",
            "/usr/local/lib/python3.10/dist-packages/statsmodels/tsa/base/tsa_model.py:473: ValueWarning: An unsupported index was provided. As a result, forecasts cannot be generated. To use the model for forecasting, use one of the supported classes of index.\n",
            "  self._init_dates(dates, freq)\n",
            "/usr/local/lib/python3.10/dist-packages/statsmodels/tsa/base/tsa_model.py:473: ValueWarning: An unsupported index was provided. As a result, forecasts cannot be generated. To use the model for forecasting, use one of the supported classes of index.\n",
            "  self._init_dates(dates, freq)\n"
          ]
        },
        {
          "output_type": "stream",
          "name": "stdout",
          "text": [
            "ARIMA(2, 1, 2): MAE=0.33, RMSE=1.72, AIC=42433.84, BIC=42470.29\n",
            "Test ARIMA(5, 2, 1)...\n"
          ]
        },
        {
          "output_type": "stream",
          "name": "stderr",
          "text": [
            "/usr/local/lib/python3.10/dist-packages/statsmodels/tsa/base/tsa_model.py:473: ValueWarning: An unsupported index was provided. As a result, forecasts cannot be generated. To use the model for forecasting, use one of the supported classes of index.\n",
            "  self._init_dates(dates, freq)\n",
            "/usr/local/lib/python3.10/dist-packages/statsmodels/tsa/base/tsa_model.py:473: ValueWarning: An unsupported index was provided. As a result, forecasts cannot be generated. To use the model for forecasting, use one of the supported classes of index.\n",
            "  self._init_dates(dates, freq)\n",
            "/usr/local/lib/python3.10/dist-packages/statsmodels/tsa/base/tsa_model.py:473: ValueWarning: An unsupported index was provided. As a result, forecasts cannot be generated. To use the model for forecasting, use one of the supported classes of index.\n",
            "  self._init_dates(dates, freq)\n",
            "/usr/local/lib/python3.10/dist-packages/statsmodels/tsa/statespace/sarimax.py:978: UserWarning: Non-invertible starting MA parameters found. Using zeros as starting parameters.\n",
            "  warn('Non-invertible starting MA parameters found.'\n"
          ]
        },
        {
          "output_type": "stream",
          "name": "stdout",
          "text": [
            "ARIMA(5, 2, 1): MAE=0.60, RMSE=1.85, AIC=44113.17, BIC=44164.20\n",
            "Test ARIMA(0, 2, 2)...\n"
          ]
        },
        {
          "output_type": "stream",
          "name": "stderr",
          "text": [
            "/usr/local/lib/python3.10/dist-packages/statsmodels/tsa/base/tsa_model.py:473: ValueWarning: An unsupported index was provided. As a result, forecasts cannot be generated. To use the model for forecasting, use one of the supported classes of index.\n",
            "  self._init_dates(dates, freq)\n",
            "/usr/local/lib/python3.10/dist-packages/statsmodels/tsa/base/tsa_model.py:473: ValueWarning: An unsupported index was provided. As a result, forecasts cannot be generated. To use the model for forecasting, use one of the supported classes of index.\n",
            "  self._init_dates(dates, freq)\n",
            "/usr/local/lib/python3.10/dist-packages/statsmodels/tsa/base/tsa_model.py:473: ValueWarning: An unsupported index was provided. As a result, forecasts cannot be generated. To use the model for forecasting, use one of the supported classes of index.\n",
            "  self._init_dates(dates, freq)\n",
            "/usr/local/lib/python3.10/dist-packages/statsmodels/base/model.py:607: ConvergenceWarning: Maximum Likelihood optimization failed to converge. Check mle_retvals\n",
            "  warnings.warn(\"Maximum Likelihood optimization failed to \"\n"
          ]
        },
        {
          "output_type": "stream",
          "name": "stdout",
          "text": [
            "ARIMA(0, 2, 2): MAE=0.40, RMSE=1.72, AIC=42480.40, BIC=42502.27\n",
            "Test ARIMA(3, 1, 3)...\n"
          ]
        },
        {
          "output_type": "stream",
          "name": "stderr",
          "text": [
            "/usr/local/lib/python3.10/dist-packages/statsmodels/tsa/base/tsa_model.py:473: ValueWarning: An unsupported index was provided. As a result, forecasts cannot be generated. To use the model for forecasting, use one of the supported classes of index.\n",
            "  self._init_dates(dates, freq)\n",
            "/usr/local/lib/python3.10/dist-packages/statsmodels/tsa/base/tsa_model.py:473: ValueWarning: An unsupported index was provided. As a result, forecasts cannot be generated. To use the model for forecasting, use one of the supported classes of index.\n",
            "  self._init_dates(dates, freq)\n",
            "/usr/local/lib/python3.10/dist-packages/statsmodels/tsa/base/tsa_model.py:473: ValueWarning: An unsupported index was provided. As a result, forecasts cannot be generated. To use the model for forecasting, use one of the supported classes of index.\n",
            "  self._init_dates(dates, freq)\n",
            "/usr/local/lib/python3.10/dist-packages/statsmodels/base/model.py:607: ConvergenceWarning: Maximum Likelihood optimization failed to converge. Check mle_retvals\n",
            "  warnings.warn(\"Maximum Likelihood optimization failed to \"\n"
          ]
        },
        {
          "output_type": "stream",
          "name": "stdout",
          "text": [
            "ARIMA(3, 1, 3): MAE=0.35, RMSE=1.71, AIC=42426.90, BIC=42477.93\n",
            "Test ARIMA(4, 2, 0)...\n"
          ]
        },
        {
          "output_type": "stream",
          "name": "stderr",
          "text": [
            "/usr/local/lib/python3.10/dist-packages/statsmodels/tsa/base/tsa_model.py:473: ValueWarning: An unsupported index was provided. As a result, forecasts cannot be generated. To use the model for forecasting, use one of the supported classes of index.\n",
            "  self._init_dates(dates, freq)\n",
            "/usr/local/lib/python3.10/dist-packages/statsmodels/tsa/base/tsa_model.py:473: ValueWarning: An unsupported index was provided. As a result, forecasts cannot be generated. To use the model for forecasting, use one of the supported classes of index.\n",
            "  self._init_dates(dates, freq)\n",
            "/usr/local/lib/python3.10/dist-packages/statsmodels/tsa/base/tsa_model.py:473: ValueWarning: An unsupported index was provided. As a result, forecasts cannot be generated. To use the model for forecasting, use one of the supported classes of index.\n",
            "  self._init_dates(dates, freq)\n"
          ]
        },
        {
          "output_type": "stream",
          "name": "stdout",
          "text": [
            "ARIMA(4, 2, 0): MAE=0.88, RMSE=2.34, AIC=49188.18, BIC=49224.63\n",
            "\n",
            "Mejor modelo: ARIMA(3, 1, 3)\n",
            "Resultados: {'MAE': 0.3487390942836469, 'RMSE': 1.7141750171864951, 'AIC': 42426.89805380438, 'BIC': 42477.92858118435}\n"
          ]
        }
      ]
    },
    {
      "cell_type": "code",
      "source": [
        "# Remuestreo de los datos a intervalos de 1 minuto\n",
        "ethereum_data_resampled = (\n",
        "    ethereum_data.set_index(\"ds\")     # Establecer el índice\n",
        "    .resample(\"T\")                    # 'T' para remuestrear a minutos\n",
        "    .mean()                           # Calcular el promedio por intervalo\n",
        "    .dropna()                         # Eliminar valores nulos\n",
        "    .reset_index()                    # Reiniciar el índice para su posterior uso\n",
        ")\n",
        "\n",
        "# Configurar nuevamente la columna \"ds\" como índice\n",
        "ethereum_data_resampled = ethereum_data_resampled.set_index('ds')"
      ],
      "metadata": {
        "colab": {
          "base_uri": "https://localhost:8080/"
        },
        "id": "7Mic9AhWHcYg",
        "outputId": "07f363e0-a356-432d-927d-748a1643f472"
      },
      "execution_count": 9,
      "outputs": [
        {
          "output_type": "stream",
          "name": "stderr",
          "text": [
            "<ipython-input-9-30546538f600>:4: FutureWarning: 'T' is deprecated and will be removed in a future version, please use 'min' instead.\n",
            "  .resample(\"T\")                    # 'T' para remuestrear a minutos\n"
          ]
        }
      ]
    },
    {
      "cell_type": "code",
      "source": [
        "import matplotlib.pyplot as plt\n",
        "\n",
        "# Ajustar el modelo ARIMA(3, 1, 3) para Ethereum\n",
        "model_eth = ARIMA(ethereum_data_diff, order=(3, 1, 3))\n",
        "model_fit_eth = model_eth.fit()\n",
        "\n",
        "# Mostrar el resumen del modelo\n",
        "# información estadística detallada sobre los parámetros ajustados,\n",
        "# como coeficientes, errores estándar, valores AIC/BIC, y residuales\n",
        "print(model_fit_eth.summary())\n",
        "\n",
        "# Generar predicciones\n",
        "forecast_steps_eth = 300  # Número de pasos a predecir\n",
        "forecast_eth = model_fit_eth.forecast(steps=forecast_steps_eth)\n",
        "\n",
        "# Crear índice para las predicciones\n",
        "forecast_index_eth = pd.date_range(start=ethereum_data_resampled.index[-1], periods=forecast_steps_eth + 1, freq='T')[1:]\n",
        "\n",
        "# Ajustar las predicciones para volver a los valores originales\n",
        "forecast_cumsum_eth = forecast_eth.cumsum() + ethereum_data_resampled['y'].iloc[-1]\n",
        "\n",
        "# Convertir predicciones a DataFrame\n",
        "forecast_df_eth = pd.DataFrame({'ds': forecast_index_eth, 'y_pred': forecast_cumsum_eth})\n",
        "\n",
        "# Visualización de los resultados\n",
        "plt.figure(figsize=(12, 6))\n",
        "plt.plot(ethereum_data_resampled.index[-500:], ethereum_data_resampled['y'][-500:], label='Actual Data', color='blue')\n",
        "plt.plot(forecast_df_eth['ds'], forecast_df_eth['y_pred'], label='Prediction)', color='red', linestyle='--')\n",
        "plt.title('Ethereum Prediction (ARIMA)', fontsize=16)\n",
        "plt.xlabel('Date', fontsize=14)\n",
        "plt.ylabel('Price', fontsize=14)\n",
        "plt.legend(fontsize=12)\n",
        "plt.grid()\n",
        "plt.show()"
      ],
      "metadata": {
        "colab": {
          "base_uri": "https://localhost:8080/",
          "height": 1000
        },
        "id": "kE8j968fGz5o",
        "outputId": "7934219d-f308-4e3c-8e27-70efb28f65d1"
      },
      "execution_count": 10,
      "outputs": [
        {
          "output_type": "stream",
          "name": "stdout",
          "text": [
            "Ajustando el modelo ARIMA(3, 1, 3)...\n"
          ]
        },
        {
          "output_type": "stream",
          "name": "stderr",
          "text": [
            "/usr/local/lib/python3.10/dist-packages/statsmodels/tsa/base/tsa_model.py:473: ValueWarning: An unsupported index was provided. As a result, forecasts cannot be generated. To use the model for forecasting, use one of the supported classes of index.\n",
            "  self._init_dates(dates, freq)\n",
            "/usr/local/lib/python3.10/dist-packages/statsmodels/tsa/base/tsa_model.py:473: ValueWarning: An unsupported index was provided. As a result, forecasts cannot be generated. To use the model for forecasting, use one of the supported classes of index.\n",
            "  self._init_dates(dates, freq)\n",
            "/usr/local/lib/python3.10/dist-packages/statsmodels/tsa/base/tsa_model.py:473: ValueWarning: An unsupported index was provided. As a result, forecasts cannot be generated. To use the model for forecasting, use one of the supported classes of index.\n",
            "  self._init_dates(dates, freq)\n",
            "/usr/local/lib/python3.10/dist-packages/statsmodels/base/model.py:607: ConvergenceWarning: Maximum Likelihood optimization failed to converge. Check mle_retvals\n",
            "  warnings.warn(\"Maximum Likelihood optimization failed to \"\n"
          ]
        },
        {
          "output_type": "stream",
          "name": "stdout",
          "text": [
            "                               SARIMAX Results                                \n",
            "==============================================================================\n",
            "Dep. Variable:                      y   No. Observations:                10831\n",
            "Model:                 ARIMA(3, 1, 3)   Log Likelihood              -21206.449\n",
            "Date:                Wed, 18 Dec 2024   AIC                          42426.898\n",
            "Time:                        18:53:39   BIC                          42477.929\n",
            "Sample:                             0   HQIC                         42444.103\n",
            "                              - 10831                                         \n",
            "Covariance Type:                  opg                                         \n",
            "==============================================================================\n",
            "                 coef    std err          z      P>|z|      [0.025      0.975]\n",
            "------------------------------------------------------------------------------\n",
            "ar.L1         -1.4581      0.065    -22.586      0.000      -1.585      -1.332\n",
            "ar.L2         -0.9832      0.093    -10.529      0.000      -1.166      -0.800\n",
            "ar.L3         -0.0088      0.063     -0.141      0.888      -0.131       0.114\n",
            "ma.L1          0.4572      0.013     35.846      0.000       0.432       0.482\n",
            "ma.L2         -0.4782      0.007    -64.377      0.000      -0.493      -0.464\n",
            "ma.L3         -0.9786      0.011    -90.883      0.000      -1.000      -0.958\n",
            "sigma2         2.9378      0.006    480.813      0.000       2.926       2.950\n",
            "===================================================================================\n",
            "Ljung-Box (L1) (Q):                   0.00   Jarque-Bera (JB):           8257252.01\n",
            "Prob(Q):                              1.00   Prob(JB):                         0.00\n",
            "Heteroskedasticity (H):               2.13   Skew:                             2.38\n",
            "Prob(H) (two-sided):                  0.00   Kurtosis:                       138.19\n",
            "===================================================================================\n",
            "\n",
            "Warnings:\n",
            "[1] Covariance matrix calculated using the outer product of gradients (complex-step).\n"
          ]
        },
        {
          "output_type": "stream",
          "name": "stderr",
          "text": [
            "/usr/local/lib/python3.10/dist-packages/statsmodels/tsa/base/tsa_model.py:837: ValueWarning: No supported index is available. Prediction results will be given with an integer index beginning at `start`.\n",
            "  return get_prediction_index(\n",
            "/usr/local/lib/python3.10/dist-packages/statsmodels/tsa/base/tsa_model.py:837: FutureWarning: No supported index is available. In the next version, calling this method in a model without a supported index will result in an exception.\n",
            "  return get_prediction_index(\n",
            "<ipython-input-10-6c615dbe8f5b>:19: FutureWarning: 'T' is deprecated and will be removed in a future version, please use 'min' instead.\n",
            "  forecast_index_eth = pd.date_range(start=ethereum_data_resampled.index[-1], periods=forecast_steps_eth + 1, freq='T')[1:]\n"
          ]
        },
        {
          "output_type": "display_data",
          "data": {
            "text/plain": [
              "<Figure size 1200x600 with 1 Axes>"
            ],
            "image/png": "[encoded data removed]"
          },
          "metadata": {}
        }
      ]
    }
  ]
}